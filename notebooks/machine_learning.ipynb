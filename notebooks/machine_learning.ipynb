{
 "cells": [
  {
   "cell_type": "markdown",
   "metadata": {
    "nbpresent": {
     "id": "caca2dc6-2f69-42ed-b6db-d13c72f29933"
    },
    "slideshow": {
     "slide_type": "slide"
    }
   },
   "source": [
    "# Dev Week 2017 - Machine Learning & Recommender Systems"
   ]
  },
  {
   "cell_type": "markdown",
   "metadata": {
    "nbpresent": {
     "id": "25d729d1-38ef-4930-a9e7-435a3bdb5fc9"
    }
   },
   "source": [
    "This talk will present to you some basic concepts about Machine Learning and how we develop projects using this concept and related technologies (IMHO)."
   ]
  },
  {
   "cell_type": "markdown",
   "metadata": {
    "nbpresent": {
     "id": "2dba1c71-180a-4e62-a40e-2cadef266261"
    },
    "slideshow": {
     "slide_type": "slide"
    }
   },
   "source": [
    "## Fundamentals of Machine Learning"
   ]
  },
  {
   "cell_type": "markdown",
   "metadata": {
    "slideshow": {
     "slide_type": "fragment"
    }
   },
   "source": [
    "### Some important points that we must keep in mind for this talk\n",
    "\n",
    "In terms of concept size: \n",
    "- Data Science and AI concepts is bigger than Machine Learning;\n",
    "- Machine Learning concept is bigger than Deep Learning;"
   ]
  },
  {
   "cell_type": "markdown",
   "metadata": {
    "slideshow": {
     "slide_type": "fragment"
    }
   },
   "source": [
    "### What is learning?\n",
    "\n",
    "- Using past experiences to acquire expertise in execute a specific task;\n",
    "- Do you wanna an example? Pretend to grab a stone from ground near a street dog!"
   ]
  },
  {
   "cell_type": "markdown",
   "metadata": {
    "slideshow": {
     "slide_type": "fragment"
    }
   },
   "source": [
    "### What is machine learning?\n",
    "\n",
    "- When you program a machine to learn how to execute a specific task;\n",
    "- The old but gold example of filtering Spams;"
   ]
  },
  {
   "cell_type": "markdown",
   "metadata": {},
   "source": [
    "### Types of learning"
   ]
  },
  {
   "cell_type": "markdown",
   "metadata": {},
   "source": [
    "#### Supervised versus Unsupervised\n",
    "\n",
    "*Supervised:* when you learn from a targeted amount of data how to target another amount of data;\n",
    "\n",
    "*Unsupervised:* no targets;"
   ]
  },
  {
   "cell_type": "markdown",
   "metadata": {},
   "source": [
    "### Classification, regression, multiclass, ranking and complex predictions\n",
    "\n",
    "*Simple (binary) classification:* you have two classes and a new sample must fit one of the two classes;\n",
    "\n",
    "*Regression:* you must to predict a continuous value for your new samples;\n",
    "\n",
    "*Multi classification:* you have more than two classes;\n",
    "\n",
    "*Ranking:* You must order a set of instances by relevance;\n",
    "\n",
    "*Complex prediction:* As an example, cost sensitive classification;"
   ]
  },
  {
   "cell_type": "markdown",
   "metadata": {},
   "source": [
    "#### Active versus Passive learners\n",
    "\n",
    "About how the learner interacts with the environment at training time. If actively performs interactions (A/B tests, questions, etc.) or wait for another actor to bring to learnship."
   ]
  },
  {
   "cell_type": "markdown",
   "metadata": {},
   "source": [
    "#### Online versus batch learning\n",
    "\n",
    "The frequency and/or lifecycle of when your learner incorporates the learnship;"
   ]
  },
  {
   "cell_type": "markdown",
   "metadata": {},
   "source": [
    "### Overfitting\n",
    "\n",
    "- When your predictor performance on the training set is excellent, yet its performance on the ground truth is very poor;\n",
    "- In other words, occurs when your hypothesis fits the training data \"too well\";"
   ]
  },
  {
   "cell_type": "markdown",
   "metadata": {},
   "source": [
    "### Bias\n",
    "\n",
    "- When you inducts your learn to a specific \"conclusion\";\n",
    "- Be CAREFUL with assumptions;\n",
    "> \"In the face of ambiguity, refuse the temptation to guess.\" (The Zen of Python, by Tim Peters)"
   ]
  },
  {
   "cell_type": "markdown",
   "metadata": {},
   "source": [
    "### Algorithms types\n",
    "\n",
    "- Linear regression;\n",
    "- Support Vector Machines;\n",
    "- Decision trees;\n",
    "- Ensembles;\n",
    "- Neural networks;"
   ]
  },
  {
   "cell_type": "markdown",
   "metadata": {
    "nbpresent": {
     "id": "6a3f4bab-af79-4a5b-a3cc-228fff561d65"
    }
   },
   "source": [
    "## Connecting Machine Learning to a business goal"
   ]
  },
  {
   "cell_type": "markdown",
   "metadata": {
    "nbpresent": {
     "id": "32942df7-f50c-447e-a113-0261ed8814c4"
    }
   },
   "source": [
    "### Goals and metrics\n",
    "\n",
    "In successful Machine Learning projects, the intelligence being developed is strongly coupled to a very specific goal and measured by a very specific metric. So:\n",
    "\n",
    "- Always define the goal and metric before the development kick-off\n",
    "- Plan and architect your Machine Learning strategy over the goal and metric previously defined\n",
    "- Use goal and metric to measure the performance of your intelligence"
   ]
  },
  {
   "cell_type": "markdown",
   "metadata": {
    "nbpresent": {
     "id": "278420a1-2119-4576-aca0-62e88d5af191"
    }
   },
   "source": [
    "### Data domains\n",
    "\n",
    "- A data domain are the group of datasets that compose the available description of your context and its players and events;\n",
    "- For example, if you have an e-commerce, your data domain is all data **available** that describes your customers, the products being selled, financial transactions, etc.\n",
    "- Two different data domains can have distinct definitions of the same player or event. Wanna an example? CHURN!"
   ]
  },
  {
   "cell_type": "code",
   "execution_count": 1,
   "metadata": {
    "collapsed": false
   },
   "outputs": [],
   "source": [
    "%matplotlib inline\n",
    "\n",
    "import pandas as pd\n",
    "import matplotlib.pyplot as plt\n",
    "import seaborn as sns\n",
    "import numpy as np\n",
    "\n",
    "from sklearn import datasets"
   ]
  },
  {
   "cell_type": "code",
   "execution_count": 8,
   "metadata": {
    "collapsed": false
   },
   "outputs": [
    {
     "data": {
      "text/html": [
       "<div>\n",
       "<table border=\"1\" class=\"dataframe\">\n",
       "  <thead>\n",
       "    <tr style=\"text-align: right;\">\n",
       "      <th></th>\n",
       "      <th>0</th>\n",
       "      <th>1</th>\n",
       "      <th>2</th>\n",
       "      <th>3</th>\n",
       "      <th>4</th>\n",
       "    </tr>\n",
       "  </thead>\n",
       "  <tbody>\n",
       "    <tr>\n",
       "      <th>mean radius</th>\n",
       "      <td>17.990000</td>\n",
       "      <td>20.570000</td>\n",
       "      <td>19.690000</td>\n",
       "      <td>11.420000</td>\n",
       "      <td>20.290000</td>\n",
       "    </tr>\n",
       "    <tr>\n",
       "      <th>mean texture</th>\n",
       "      <td>10.380000</td>\n",
       "      <td>17.770000</td>\n",
       "      <td>21.250000</td>\n",
       "      <td>20.380000</td>\n",
       "      <td>14.340000</td>\n",
       "    </tr>\n",
       "    <tr>\n",
       "      <th>mean perimeter</th>\n",
       "      <td>122.800000</td>\n",
       "      <td>132.900000</td>\n",
       "      <td>130.000000</td>\n",
       "      <td>77.580000</td>\n",
       "      <td>135.100000</td>\n",
       "    </tr>\n",
       "    <tr>\n",
       "      <th>mean area</th>\n",
       "      <td>1001.000000</td>\n",
       "      <td>1326.000000</td>\n",
       "      <td>1203.000000</td>\n",
       "      <td>386.100000</td>\n",
       "      <td>1297.000000</td>\n",
       "    </tr>\n",
       "    <tr>\n",
       "      <th>mean smoothness</th>\n",
       "      <td>0.118400</td>\n",
       "      <td>0.084740</td>\n",
       "      <td>0.109600</td>\n",
       "      <td>0.142500</td>\n",
       "      <td>0.100300</td>\n",
       "    </tr>\n",
       "    <tr>\n",
       "      <th>mean compactness</th>\n",
       "      <td>0.277600</td>\n",
       "      <td>0.078640</td>\n",
       "      <td>0.159900</td>\n",
       "      <td>0.283900</td>\n",
       "      <td>0.132800</td>\n",
       "    </tr>\n",
       "    <tr>\n",
       "      <th>mean concavity</th>\n",
       "      <td>0.300100</td>\n",
       "      <td>0.086900</td>\n",
       "      <td>0.197400</td>\n",
       "      <td>0.241400</td>\n",
       "      <td>0.198000</td>\n",
       "    </tr>\n",
       "    <tr>\n",
       "      <th>mean concave points</th>\n",
       "      <td>0.147100</td>\n",
       "      <td>0.070170</td>\n",
       "      <td>0.127900</td>\n",
       "      <td>0.105200</td>\n",
       "      <td>0.104300</td>\n",
       "    </tr>\n",
       "    <tr>\n",
       "      <th>mean symmetry</th>\n",
       "      <td>0.241900</td>\n",
       "      <td>0.181200</td>\n",
       "      <td>0.206900</td>\n",
       "      <td>0.259700</td>\n",
       "      <td>0.180900</td>\n",
       "    </tr>\n",
       "    <tr>\n",
       "      <th>mean fractal dimension</th>\n",
       "      <td>0.078710</td>\n",
       "      <td>0.056670</td>\n",
       "      <td>0.059990</td>\n",
       "      <td>0.097440</td>\n",
       "      <td>0.058830</td>\n",
       "    </tr>\n",
       "    <tr>\n",
       "      <th>radius error</th>\n",
       "      <td>1.095000</td>\n",
       "      <td>0.543500</td>\n",
       "      <td>0.745600</td>\n",
       "      <td>0.495600</td>\n",
       "      <td>0.757200</td>\n",
       "    </tr>\n",
       "    <tr>\n",
       "      <th>texture error</th>\n",
       "      <td>0.905300</td>\n",
       "      <td>0.733900</td>\n",
       "      <td>0.786900</td>\n",
       "      <td>1.156000</td>\n",
       "      <td>0.781300</td>\n",
       "    </tr>\n",
       "    <tr>\n",
       "      <th>perimeter error</th>\n",
       "      <td>8.589000</td>\n",
       "      <td>3.398000</td>\n",
       "      <td>4.585000</td>\n",
       "      <td>3.445000</td>\n",
       "      <td>5.438000</td>\n",
       "    </tr>\n",
       "    <tr>\n",
       "      <th>area error</th>\n",
       "      <td>153.400000</td>\n",
       "      <td>74.080000</td>\n",
       "      <td>94.030000</td>\n",
       "      <td>27.230000</td>\n",
       "      <td>94.440000</td>\n",
       "    </tr>\n",
       "    <tr>\n",
       "      <th>smoothness error</th>\n",
       "      <td>0.006399</td>\n",
       "      <td>0.005225</td>\n",
       "      <td>0.006150</td>\n",
       "      <td>0.009110</td>\n",
       "      <td>0.011490</td>\n",
       "    </tr>\n",
       "    <tr>\n",
       "      <th>compactness error</th>\n",
       "      <td>0.049040</td>\n",
       "      <td>0.013080</td>\n",
       "      <td>0.040060</td>\n",
       "      <td>0.074580</td>\n",
       "      <td>0.024610</td>\n",
       "    </tr>\n",
       "    <tr>\n",
       "      <th>concavity error</th>\n",
       "      <td>0.053730</td>\n",
       "      <td>0.018600</td>\n",
       "      <td>0.038320</td>\n",
       "      <td>0.056610</td>\n",
       "      <td>0.056880</td>\n",
       "    </tr>\n",
       "    <tr>\n",
       "      <th>concave points error</th>\n",
       "      <td>0.015870</td>\n",
       "      <td>0.013400</td>\n",
       "      <td>0.020580</td>\n",
       "      <td>0.018670</td>\n",
       "      <td>0.018850</td>\n",
       "    </tr>\n",
       "    <tr>\n",
       "      <th>symmetry error</th>\n",
       "      <td>0.030030</td>\n",
       "      <td>0.013890</td>\n",
       "      <td>0.022500</td>\n",
       "      <td>0.059630</td>\n",
       "      <td>0.017560</td>\n",
       "    </tr>\n",
       "    <tr>\n",
       "      <th>fractal dimension error</th>\n",
       "      <td>0.006193</td>\n",
       "      <td>0.003532</td>\n",
       "      <td>0.004571</td>\n",
       "      <td>0.009208</td>\n",
       "      <td>0.005115</td>\n",
       "    </tr>\n",
       "    <tr>\n",
       "      <th>worst radius</th>\n",
       "      <td>25.380000</td>\n",
       "      <td>24.990000</td>\n",
       "      <td>23.570000</td>\n",
       "      <td>14.910000</td>\n",
       "      <td>22.540000</td>\n",
       "    </tr>\n",
       "    <tr>\n",
       "      <th>worst texture</th>\n",
       "      <td>17.330000</td>\n",
       "      <td>23.410000</td>\n",
       "      <td>25.530000</td>\n",
       "      <td>26.500000</td>\n",
       "      <td>16.670000</td>\n",
       "    </tr>\n",
       "    <tr>\n",
       "      <th>worst perimeter</th>\n",
       "      <td>184.600000</td>\n",
       "      <td>158.800000</td>\n",
       "      <td>152.500000</td>\n",
       "      <td>98.870000</td>\n",
       "      <td>152.200000</td>\n",
       "    </tr>\n",
       "    <tr>\n",
       "      <th>worst area</th>\n",
       "      <td>2019.000000</td>\n",
       "      <td>1956.000000</td>\n",
       "      <td>1709.000000</td>\n",
       "      <td>567.700000</td>\n",
       "      <td>1575.000000</td>\n",
       "    </tr>\n",
       "    <tr>\n",
       "      <th>worst smoothness</th>\n",
       "      <td>0.162200</td>\n",
       "      <td>0.123800</td>\n",
       "      <td>0.144400</td>\n",
       "      <td>0.209800</td>\n",
       "      <td>0.137400</td>\n",
       "    </tr>\n",
       "    <tr>\n",
       "      <th>worst compactness</th>\n",
       "      <td>0.665600</td>\n",
       "      <td>0.186600</td>\n",
       "      <td>0.424500</td>\n",
       "      <td>0.866300</td>\n",
       "      <td>0.205000</td>\n",
       "    </tr>\n",
       "    <tr>\n",
       "      <th>worst concavity</th>\n",
       "      <td>0.711900</td>\n",
       "      <td>0.241600</td>\n",
       "      <td>0.450400</td>\n",
       "      <td>0.686900</td>\n",
       "      <td>0.400000</td>\n",
       "    </tr>\n",
       "    <tr>\n",
       "      <th>worst concave points</th>\n",
       "      <td>0.265400</td>\n",
       "      <td>0.186000</td>\n",
       "      <td>0.243000</td>\n",
       "      <td>0.257500</td>\n",
       "      <td>0.162500</td>\n",
       "    </tr>\n",
       "    <tr>\n",
       "      <th>worst symmetry</th>\n",
       "      <td>0.460100</td>\n",
       "      <td>0.275000</td>\n",
       "      <td>0.361300</td>\n",
       "      <td>0.663800</td>\n",
       "      <td>0.236400</td>\n",
       "    </tr>\n",
       "    <tr>\n",
       "      <th>worst fractal dimension</th>\n",
       "      <td>0.118900</td>\n",
       "      <td>0.089020</td>\n",
       "      <td>0.087580</td>\n",
       "      <td>0.173000</td>\n",
       "      <td>0.076780</td>\n",
       "    </tr>\n",
       "  </tbody>\n",
       "</table>\n",
       "</div>"
      ],
      "text/plain": [
       "                                   0            1            2           3  \\\n",
       "mean radius                17.990000    20.570000    19.690000   11.420000   \n",
       "mean texture               10.380000    17.770000    21.250000   20.380000   \n",
       "mean perimeter            122.800000   132.900000   130.000000   77.580000   \n",
       "mean area                1001.000000  1326.000000  1203.000000  386.100000   \n",
       "mean smoothness             0.118400     0.084740     0.109600    0.142500   \n",
       "mean compactness            0.277600     0.078640     0.159900    0.283900   \n",
       "mean concavity              0.300100     0.086900     0.197400    0.241400   \n",
       "mean concave points         0.147100     0.070170     0.127900    0.105200   \n",
       "mean symmetry               0.241900     0.181200     0.206900    0.259700   \n",
       "mean fractal dimension      0.078710     0.056670     0.059990    0.097440   \n",
       "radius error                1.095000     0.543500     0.745600    0.495600   \n",
       "texture error               0.905300     0.733900     0.786900    1.156000   \n",
       "perimeter error             8.589000     3.398000     4.585000    3.445000   \n",
       "area error                153.400000    74.080000    94.030000   27.230000   \n",
       "smoothness error            0.006399     0.005225     0.006150    0.009110   \n",
       "compactness error           0.049040     0.013080     0.040060    0.074580   \n",
       "concavity error             0.053730     0.018600     0.038320    0.056610   \n",
       "concave points error        0.015870     0.013400     0.020580    0.018670   \n",
       "symmetry error              0.030030     0.013890     0.022500    0.059630   \n",
       "fractal dimension error     0.006193     0.003532     0.004571    0.009208   \n",
       "worst radius               25.380000    24.990000    23.570000   14.910000   \n",
       "worst texture              17.330000    23.410000    25.530000   26.500000   \n",
       "worst perimeter           184.600000   158.800000   152.500000   98.870000   \n",
       "worst area               2019.000000  1956.000000  1709.000000  567.700000   \n",
       "worst smoothness            0.162200     0.123800     0.144400    0.209800   \n",
       "worst compactness           0.665600     0.186600     0.424500    0.866300   \n",
       "worst concavity             0.711900     0.241600     0.450400    0.686900   \n",
       "worst concave points        0.265400     0.186000     0.243000    0.257500   \n",
       "worst symmetry              0.460100     0.275000     0.361300    0.663800   \n",
       "worst fractal dimension     0.118900     0.089020     0.087580    0.173000   \n",
       "\n",
       "                                   4  \n",
       "mean radius                20.290000  \n",
       "mean texture               14.340000  \n",
       "mean perimeter            135.100000  \n",
       "mean area                1297.000000  \n",
       "mean smoothness             0.100300  \n",
       "mean compactness            0.132800  \n",
       "mean concavity              0.198000  \n",
       "mean concave points         0.104300  \n",
       "mean symmetry               0.180900  \n",
       "mean fractal dimension      0.058830  \n",
       "radius error                0.757200  \n",
       "texture error               0.781300  \n",
       "perimeter error             5.438000  \n",
       "area error                 94.440000  \n",
       "smoothness error            0.011490  \n",
       "compactness error           0.024610  \n",
       "concavity error             0.056880  \n",
       "concave points error        0.018850  \n",
       "symmetry error              0.017560  \n",
       "fractal dimension error     0.005115  \n",
       "worst radius               22.540000  \n",
       "worst texture              16.670000  \n",
       "worst perimeter           152.200000  \n",
       "worst area               1575.000000  \n",
       "worst smoothness            0.137400  \n",
       "worst compactness           0.205000  \n",
       "worst concavity             0.400000  \n",
       "worst concave points        0.162500  \n",
       "worst symmetry              0.236400  \n",
       "worst fractal dimension     0.076780  "
      ]
     },
     "execution_count": 8,
     "metadata": {},
     "output_type": "execute_result"
    }
   ],
   "source": [
    "bc = datasets.load_breast_cancer()\n",
    "features = pd.DataFrame(bc.data, columns=bc.feature_names)\n",
    "targets = bc.target\n",
    "\n",
    "features.head().transpose()"
   ]
  },
  {
   "cell_type": "code",
   "execution_count": 10,
   "metadata": {
    "collapsed": false
   },
   "outputs": [
    {
     "data": {
      "text/html": [
       "<div>\n",
       "<table border=\"1\" class=\"dataframe\">\n",
       "  <thead>\n",
       "    <tr style=\"text-align: right;\">\n",
       "      <th></th>\n",
       "      <th>count</th>\n",
       "      <th>mean</th>\n",
       "      <th>std</th>\n",
       "      <th>min</th>\n",
       "      <th>25%</th>\n",
       "      <th>50%</th>\n",
       "      <th>75%</th>\n",
       "      <th>max</th>\n",
       "    </tr>\n",
       "  </thead>\n",
       "  <tbody>\n",
       "    <tr>\n",
       "      <th>mean radius</th>\n",
       "      <td>569.0</td>\n",
       "      <td>14.127292</td>\n",
       "      <td>3.524049</td>\n",
       "      <td>6.981000</td>\n",
       "      <td>11.700000</td>\n",
       "      <td>13.370000</td>\n",
       "      <td>15.780000</td>\n",
       "      <td>28.11000</td>\n",
       "    </tr>\n",
       "    <tr>\n",
       "      <th>mean texture</th>\n",
       "      <td>569.0</td>\n",
       "      <td>19.289649</td>\n",
       "      <td>4.301036</td>\n",
       "      <td>9.710000</td>\n",
       "      <td>16.170000</td>\n",
       "      <td>18.840000</td>\n",
       "      <td>21.800000</td>\n",
       "      <td>39.28000</td>\n",
       "    </tr>\n",
       "    <tr>\n",
       "      <th>mean perimeter</th>\n",
       "      <td>569.0</td>\n",
       "      <td>91.969033</td>\n",
       "      <td>24.298981</td>\n",
       "      <td>43.790000</td>\n",
       "      <td>75.170000</td>\n",
       "      <td>86.240000</td>\n",
       "      <td>104.100000</td>\n",
       "      <td>188.50000</td>\n",
       "    </tr>\n",
       "    <tr>\n",
       "      <th>mean area</th>\n",
       "      <td>569.0</td>\n",
       "      <td>654.889104</td>\n",
       "      <td>351.914129</td>\n",
       "      <td>143.500000</td>\n",
       "      <td>420.300000</td>\n",
       "      <td>551.100000</td>\n",
       "      <td>782.700000</td>\n",
       "      <td>2501.00000</td>\n",
       "    </tr>\n",
       "    <tr>\n",
       "      <th>mean smoothness</th>\n",
       "      <td>569.0</td>\n",
       "      <td>0.096360</td>\n",
       "      <td>0.014064</td>\n",
       "      <td>0.052630</td>\n",
       "      <td>0.086370</td>\n",
       "      <td>0.095870</td>\n",
       "      <td>0.105300</td>\n",
       "      <td>0.16340</td>\n",
       "    </tr>\n",
       "    <tr>\n",
       "      <th>mean compactness</th>\n",
       "      <td>569.0</td>\n",
       "      <td>0.104341</td>\n",
       "      <td>0.052813</td>\n",
       "      <td>0.019380</td>\n",
       "      <td>0.064920</td>\n",
       "      <td>0.092630</td>\n",
       "      <td>0.130400</td>\n",
       "      <td>0.34540</td>\n",
       "    </tr>\n",
       "    <tr>\n",
       "      <th>mean concavity</th>\n",
       "      <td>569.0</td>\n",
       "      <td>0.088799</td>\n",
       "      <td>0.079720</td>\n",
       "      <td>0.000000</td>\n",
       "      <td>0.029560</td>\n",
       "      <td>0.061540</td>\n",
       "      <td>0.130700</td>\n",
       "      <td>0.42680</td>\n",
       "    </tr>\n",
       "    <tr>\n",
       "      <th>mean concave points</th>\n",
       "      <td>569.0</td>\n",
       "      <td>0.048919</td>\n",
       "      <td>0.038803</td>\n",
       "      <td>0.000000</td>\n",
       "      <td>0.020310</td>\n",
       "      <td>0.033500</td>\n",
       "      <td>0.074000</td>\n",
       "      <td>0.20120</td>\n",
       "    </tr>\n",
       "    <tr>\n",
       "      <th>mean symmetry</th>\n",
       "      <td>569.0</td>\n",
       "      <td>0.181162</td>\n",
       "      <td>0.027414</td>\n",
       "      <td>0.106000</td>\n",
       "      <td>0.161900</td>\n",
       "      <td>0.179200</td>\n",
       "      <td>0.195700</td>\n",
       "      <td>0.30400</td>\n",
       "    </tr>\n",
       "    <tr>\n",
       "      <th>mean fractal dimension</th>\n",
       "      <td>569.0</td>\n",
       "      <td>0.062798</td>\n",
       "      <td>0.007060</td>\n",
       "      <td>0.049960</td>\n",
       "      <td>0.057700</td>\n",
       "      <td>0.061540</td>\n",
       "      <td>0.066120</td>\n",
       "      <td>0.09744</td>\n",
       "    </tr>\n",
       "    <tr>\n",
       "      <th>radius error</th>\n",
       "      <td>569.0</td>\n",
       "      <td>0.405172</td>\n",
       "      <td>0.277313</td>\n",
       "      <td>0.111500</td>\n",
       "      <td>0.232400</td>\n",
       "      <td>0.324200</td>\n",
       "      <td>0.478900</td>\n",
       "      <td>2.87300</td>\n",
       "    </tr>\n",
       "    <tr>\n",
       "      <th>texture error</th>\n",
       "      <td>569.0</td>\n",
       "      <td>1.216853</td>\n",
       "      <td>0.551648</td>\n",
       "      <td>0.360200</td>\n",
       "      <td>0.833900</td>\n",
       "      <td>1.108000</td>\n",
       "      <td>1.474000</td>\n",
       "      <td>4.88500</td>\n",
       "    </tr>\n",
       "    <tr>\n",
       "      <th>perimeter error</th>\n",
       "      <td>569.0</td>\n",
       "      <td>2.866059</td>\n",
       "      <td>2.021855</td>\n",
       "      <td>0.757000</td>\n",
       "      <td>1.606000</td>\n",
       "      <td>2.287000</td>\n",
       "      <td>3.357000</td>\n",
       "      <td>21.98000</td>\n",
       "    </tr>\n",
       "    <tr>\n",
       "      <th>area error</th>\n",
       "      <td>569.0</td>\n",
       "      <td>40.337079</td>\n",
       "      <td>45.491006</td>\n",
       "      <td>6.802000</td>\n",
       "      <td>17.850000</td>\n",
       "      <td>24.530000</td>\n",
       "      <td>45.190000</td>\n",
       "      <td>542.20000</td>\n",
       "    </tr>\n",
       "    <tr>\n",
       "      <th>smoothness error</th>\n",
       "      <td>569.0</td>\n",
       "      <td>0.007041</td>\n",
       "      <td>0.003003</td>\n",
       "      <td>0.001713</td>\n",
       "      <td>0.005169</td>\n",
       "      <td>0.006380</td>\n",
       "      <td>0.008146</td>\n",
       "      <td>0.03113</td>\n",
       "    </tr>\n",
       "    <tr>\n",
       "      <th>compactness error</th>\n",
       "      <td>569.0</td>\n",
       "      <td>0.025478</td>\n",
       "      <td>0.017908</td>\n",
       "      <td>0.002252</td>\n",
       "      <td>0.013080</td>\n",
       "      <td>0.020450</td>\n",
       "      <td>0.032450</td>\n",
       "      <td>0.13540</td>\n",
       "    </tr>\n",
       "    <tr>\n",
       "      <th>concavity error</th>\n",
       "      <td>569.0</td>\n",
       "      <td>0.031894</td>\n",
       "      <td>0.030186</td>\n",
       "      <td>0.000000</td>\n",
       "      <td>0.015090</td>\n",
       "      <td>0.025890</td>\n",
       "      <td>0.042050</td>\n",
       "      <td>0.39600</td>\n",
       "    </tr>\n",
       "    <tr>\n",
       "      <th>concave points error</th>\n",
       "      <td>569.0</td>\n",
       "      <td>0.011796</td>\n",
       "      <td>0.006170</td>\n",
       "      <td>0.000000</td>\n",
       "      <td>0.007638</td>\n",
       "      <td>0.010930</td>\n",
       "      <td>0.014710</td>\n",
       "      <td>0.05279</td>\n",
       "    </tr>\n",
       "    <tr>\n",
       "      <th>symmetry error</th>\n",
       "      <td>569.0</td>\n",
       "      <td>0.020542</td>\n",
       "      <td>0.008266</td>\n",
       "      <td>0.007882</td>\n",
       "      <td>0.015160</td>\n",
       "      <td>0.018730</td>\n",
       "      <td>0.023480</td>\n",
       "      <td>0.07895</td>\n",
       "    </tr>\n",
       "    <tr>\n",
       "      <th>fractal dimension error</th>\n",
       "      <td>569.0</td>\n",
       "      <td>0.003795</td>\n",
       "      <td>0.002646</td>\n",
       "      <td>0.000895</td>\n",
       "      <td>0.002248</td>\n",
       "      <td>0.003187</td>\n",
       "      <td>0.004558</td>\n",
       "      <td>0.02984</td>\n",
       "    </tr>\n",
       "    <tr>\n",
       "      <th>worst radius</th>\n",
       "      <td>569.0</td>\n",
       "      <td>16.269190</td>\n",
       "      <td>4.833242</td>\n",
       "      <td>7.930000</td>\n",
       "      <td>13.010000</td>\n",
       "      <td>14.970000</td>\n",
       "      <td>18.790000</td>\n",
       "      <td>36.04000</td>\n",
       "    </tr>\n",
       "    <tr>\n",
       "      <th>worst texture</th>\n",
       "      <td>569.0</td>\n",
       "      <td>25.677223</td>\n",
       "      <td>6.146258</td>\n",
       "      <td>12.020000</td>\n",
       "      <td>21.080000</td>\n",
       "      <td>25.410000</td>\n",
       "      <td>29.720000</td>\n",
       "      <td>49.54000</td>\n",
       "    </tr>\n",
       "    <tr>\n",
       "      <th>worst perimeter</th>\n",
       "      <td>569.0</td>\n",
       "      <td>107.261213</td>\n",
       "      <td>33.602542</td>\n",
       "      <td>50.410000</td>\n",
       "      <td>84.110000</td>\n",
       "      <td>97.660000</td>\n",
       "      <td>125.400000</td>\n",
       "      <td>251.20000</td>\n",
       "    </tr>\n",
       "    <tr>\n",
       "      <th>worst area</th>\n",
       "      <td>569.0</td>\n",
       "      <td>880.583128</td>\n",
       "      <td>569.356993</td>\n",
       "      <td>185.200000</td>\n",
       "      <td>515.300000</td>\n",
       "      <td>686.500000</td>\n",
       "      <td>1084.000000</td>\n",
       "      <td>4254.00000</td>\n",
       "    </tr>\n",
       "    <tr>\n",
       "      <th>worst smoothness</th>\n",
       "      <td>569.0</td>\n",
       "      <td>0.132369</td>\n",
       "      <td>0.022832</td>\n",
       "      <td>0.071170</td>\n",
       "      <td>0.116600</td>\n",
       "      <td>0.131300</td>\n",
       "      <td>0.146000</td>\n",
       "      <td>0.22260</td>\n",
       "    </tr>\n",
       "    <tr>\n",
       "      <th>worst compactness</th>\n",
       "      <td>569.0</td>\n",
       "      <td>0.254265</td>\n",
       "      <td>0.157336</td>\n",
       "      <td>0.027290</td>\n",
       "      <td>0.147200</td>\n",
       "      <td>0.211900</td>\n",
       "      <td>0.339100</td>\n",
       "      <td>1.05800</td>\n",
       "    </tr>\n",
       "    <tr>\n",
       "      <th>worst concavity</th>\n",
       "      <td>569.0</td>\n",
       "      <td>0.272188</td>\n",
       "      <td>0.208624</td>\n",
       "      <td>0.000000</td>\n",
       "      <td>0.114500</td>\n",
       "      <td>0.226700</td>\n",
       "      <td>0.382900</td>\n",
       "      <td>1.25200</td>\n",
       "    </tr>\n",
       "    <tr>\n",
       "      <th>worst concave points</th>\n",
       "      <td>569.0</td>\n",
       "      <td>0.114606</td>\n",
       "      <td>0.065732</td>\n",
       "      <td>0.000000</td>\n",
       "      <td>0.064930</td>\n",
       "      <td>0.099930</td>\n",
       "      <td>0.161400</td>\n",
       "      <td>0.29100</td>\n",
       "    </tr>\n",
       "    <tr>\n",
       "      <th>worst symmetry</th>\n",
       "      <td>569.0</td>\n",
       "      <td>0.290076</td>\n",
       "      <td>0.061867</td>\n",
       "      <td>0.156500</td>\n",
       "      <td>0.250400</td>\n",
       "      <td>0.282200</td>\n",
       "      <td>0.317900</td>\n",
       "      <td>0.66380</td>\n",
       "    </tr>\n",
       "    <tr>\n",
       "      <th>worst fractal dimension</th>\n",
       "      <td>569.0</td>\n",
       "      <td>0.083946</td>\n",
       "      <td>0.018061</td>\n",
       "      <td>0.055040</td>\n",
       "      <td>0.071460</td>\n",
       "      <td>0.080040</td>\n",
       "      <td>0.092080</td>\n",
       "      <td>0.20750</td>\n",
       "    </tr>\n",
       "  </tbody>\n",
       "</table>\n",
       "</div>"
      ],
      "text/plain": [
       "                         count        mean         std         min  \\\n",
       "mean radius              569.0   14.127292    3.524049    6.981000   \n",
       "mean texture             569.0   19.289649    4.301036    9.710000   \n",
       "mean perimeter           569.0   91.969033   24.298981   43.790000   \n",
       "mean area                569.0  654.889104  351.914129  143.500000   \n",
       "mean smoothness          569.0    0.096360    0.014064    0.052630   \n",
       "mean compactness         569.0    0.104341    0.052813    0.019380   \n",
       "mean concavity           569.0    0.088799    0.079720    0.000000   \n",
       "mean concave points      569.0    0.048919    0.038803    0.000000   \n",
       "mean symmetry            569.0    0.181162    0.027414    0.106000   \n",
       "mean fractal dimension   569.0    0.062798    0.007060    0.049960   \n",
       "radius error             569.0    0.405172    0.277313    0.111500   \n",
       "texture error            569.0    1.216853    0.551648    0.360200   \n",
       "perimeter error          569.0    2.866059    2.021855    0.757000   \n",
       "area error               569.0   40.337079   45.491006    6.802000   \n",
       "smoothness error         569.0    0.007041    0.003003    0.001713   \n",
       "compactness error        569.0    0.025478    0.017908    0.002252   \n",
       "concavity error          569.0    0.031894    0.030186    0.000000   \n",
       "concave points error     569.0    0.011796    0.006170    0.000000   \n",
       "symmetry error           569.0    0.020542    0.008266    0.007882   \n",
       "fractal dimension error  569.0    0.003795    0.002646    0.000895   \n",
       "worst radius             569.0   16.269190    4.833242    7.930000   \n",
       "worst texture            569.0   25.677223    6.146258   12.020000   \n",
       "worst perimeter          569.0  107.261213   33.602542   50.410000   \n",
       "worst area               569.0  880.583128  569.356993  185.200000   \n",
       "worst smoothness         569.0    0.132369    0.022832    0.071170   \n",
       "worst compactness        569.0    0.254265    0.157336    0.027290   \n",
       "worst concavity          569.0    0.272188    0.208624    0.000000   \n",
       "worst concave points     569.0    0.114606    0.065732    0.000000   \n",
       "worst symmetry           569.0    0.290076    0.061867    0.156500   \n",
       "worst fractal dimension  569.0    0.083946    0.018061    0.055040   \n",
       "\n",
       "                                25%         50%          75%         max  \n",
       "mean radius               11.700000   13.370000    15.780000    28.11000  \n",
       "mean texture              16.170000   18.840000    21.800000    39.28000  \n",
       "mean perimeter            75.170000   86.240000   104.100000   188.50000  \n",
       "mean area                420.300000  551.100000   782.700000  2501.00000  \n",
       "mean smoothness            0.086370    0.095870     0.105300     0.16340  \n",
       "mean compactness           0.064920    0.092630     0.130400     0.34540  \n",
       "mean concavity             0.029560    0.061540     0.130700     0.42680  \n",
       "mean concave points        0.020310    0.033500     0.074000     0.20120  \n",
       "mean symmetry              0.161900    0.179200     0.195700     0.30400  \n",
       "mean fractal dimension     0.057700    0.061540     0.066120     0.09744  \n",
       "radius error               0.232400    0.324200     0.478900     2.87300  \n",
       "texture error              0.833900    1.108000     1.474000     4.88500  \n",
       "perimeter error            1.606000    2.287000     3.357000    21.98000  \n",
       "area error                17.850000   24.530000    45.190000   542.20000  \n",
       "smoothness error           0.005169    0.006380     0.008146     0.03113  \n",
       "compactness error          0.013080    0.020450     0.032450     0.13540  \n",
       "concavity error            0.015090    0.025890     0.042050     0.39600  \n",
       "concave points error       0.007638    0.010930     0.014710     0.05279  \n",
       "symmetry error             0.015160    0.018730     0.023480     0.07895  \n",
       "fractal dimension error    0.002248    0.003187     0.004558     0.02984  \n",
       "worst radius              13.010000   14.970000    18.790000    36.04000  \n",
       "worst texture             21.080000   25.410000    29.720000    49.54000  \n",
       "worst perimeter           84.110000   97.660000   125.400000   251.20000  \n",
       "worst area               515.300000  686.500000  1084.000000  4254.00000  \n",
       "worst smoothness           0.116600    0.131300     0.146000     0.22260  \n",
       "worst compactness          0.147200    0.211900     0.339100     1.05800  \n",
       "worst concavity            0.114500    0.226700     0.382900     1.25200  \n",
       "worst concave points       0.064930    0.099930     0.161400     0.29100  \n",
       "worst symmetry             0.250400    0.282200     0.317900     0.66380  \n",
       "worst fractal dimension    0.071460    0.080040     0.092080     0.20750  "
      ]
     },
     "execution_count": 10,
     "metadata": {},
     "output_type": "execute_result"
    }
   ],
   "source": [
    "features.describe().transpose()"
   ]
  },
  {
   "cell_type": "code",
   "execution_count": 21,
   "metadata": {
    "collapsed": false
   },
   "outputs": [
    {
     "data": {
      "image/png": "[encoded data removed]",
      "text/plain": [
       "<matplotlib.figure.Figure at 0x7ffa3186e750>"
      ]
     },
     "metadata": {},
     "output_type": "display_data"
    }
   ],
   "source": [
    "from pandas.tools.plotting import scatter_matrix\n",
    "\n",
    "df = features[[\"mean radius\", \"mean concavity\", \"radius error\", \"mean symmetry\", \"worst area\"]].sample(frac=0.2)\n",
    "_ = scatter_matrix(df, alpha=0.7, figsize=(30, 30), diagonal='kde', )"
   ]
  },
  {
   "cell_type": "markdown",
   "metadata": {
    "nbpresent": {
     "id": "eddd60e6-4e84-448f-9acf-f519ae951990"
    }
   },
   "source": [
    "### Offline evaluation framework"
   ]
  },
  {
   "cell_type": "markdown",
   "metadata": {},
   "source": [
    "The offline evaluation framework is the **ruler** that you will use to measure the performance of your model based on your business goals.\n",
    "\n",
    "For example, suppose you are the manager of a Breast Cancer campaign and you should chose between a more greedy approach or a highly assertive one based on the cost of the approach. The error costs of your campaign are:\n",
    "\n",
    "- A False Negative (your model does not identify a case which is Breast Cancer) is US\\$ 15000,00 to take a late treatment;\n",
    "- A False Positive (your model classify as Cancer a case that actually is not) is US\\$ 3000,00\n",
    "\n",
    "- A True Positive (your model classifiy as Cancer a real case of Cancer) saves US\\$ 7000,00 from government\n",
    "\n",
    "- A True Negative (your model classify as not Cancer a real case of not Cancer) doesn't impact the costs"
   ]
  },
  {
   "cell_type": "code",
   "execution_count": 25,
   "metadata": {
    "collapsed": true
   },
   "outputs": [],
   "source": [
    "FN_COST = 15000\n",
    "FP_COST = 3000\n",
    "TP_COST = -7000\n",
    "TN_COST = 0\n",
    "\n",
    "def operation_cost(num_fn, num_fp, num_tp, num_tn):\n",
    "    return (num_fn * FN_COST) + (num_fp * FP_COST) + (num_tp * TP_COST) + (num_tn * TN_COST)"
   ]
  },
  {
   "cell_type": "markdown",
   "metadata": {
    "nbpresent": {
     "id": "9cc61b72-a83c-4b8a-bdc5-e3760634e284"
    }
   },
   "source": [
    "## Feature engineering"
   ]
  },
  {
   "cell_type": "markdown",
   "metadata": {},
   "source": [
    "Standardization"
   ]
  },
  {
   "cell_type": "code",
   "execution_count": 3,
   "metadata": {
    "collapsed": false
   },
   "outputs": [],
   "source": [
    "from sklearn.model_selection import train_test_split\n",
    "from sklearn.preprocessing import StandardScaler\n",
    "\n",
    "X_train, X_test, y_train, y_test = train_test_split(features, targets, train_size=0.8, random_state=42)\n",
    "scaler = StandardScaler().fit(X_train)\n",
    "X_train_scaled = pd.DataFrame(scaler.transform(X_train), index=X_train.index.values, columns=X_train.columns.values)\n",
    "X_test_scaled = pd.DataFrame(scaler.transform(X_test), index=X_test.index.values, columns=X_test.columns.values)"
   ]
  },
  {
   "cell_type": "markdown",
   "metadata": {},
   "source": [
    "Dimensionality analysis"
   ]
  },
  {
   "cell_type": "code",
   "execution_count": 4,
   "metadata": {
    "collapsed": true
   },
   "outputs": [],
   "source": [
    "from sklearn.decomposition import PCA"
   ]
  },
  {
   "cell_type": "code",
   "execution_count": 5,
   "metadata": {
    "collapsed": false
   },
   "outputs": [
    {
     "data": {
      "text/plain": [
       "PCA(copy=True, iterated_power='auto', n_components=2, random_state=None,\n",
       "  svd_solver='auto', tol=0.0, whiten=False)"
      ]
     },
     "execution_count": 5,
     "metadata": {},
     "output_type": "execute_result"
    }
   ],
   "source": [
    "pca = PCA(n_components=2)\n",
    "pca.fit(features)"
   ]
  },
  {
   "cell_type": "code",
   "execution_count": 7,
   "metadata": {
    "collapsed": false
   },
   "outputs": [
    {
     "name": "stdout",
     "output_type": "stream",
     "text": [
      "[ 0.98204467  0.01617649]\n"
     ]
    }
   ],
   "source": [
    "#Display amount of variance explained by first 2 components\n",
    "print str(pca.explained_variance_ratio_)\n",
    "drA = pca.transform(features)"
   ]
  },
  {
   "cell_type": "code",
   "execution_count": 9,
   "metadata": {
    "collapsed": false
   },
   "outputs": [],
   "source": [
    "from sklearn.decomposition import PCA\n",
    "pca = PCA()\n",
    "pca.fit(X_train)\n",
    "cpts = pd.DataFrame(pca.transform(X_train))\n",
    "x_axis = np.arange(1, pca.n_components_+1)\n",
    "pca_scaled = PCA()\n",
    "pca_scaled.fit(X_train_scaled)\n",
    "cpts_scaled = pd.DataFrame(pca.transform(X_train_scaled))"
   ]
  },
  {
   "cell_type": "markdown",
   "metadata": {
    "nbpresent": {
     "id": "dc15b11f-0d18-47f4-82ab-7cef3e6de03a"
    }
   },
   "source": [
    "## Algorithm engineering"
   ]
  },
  {
   "cell_type": "markdown",
   "metadata": {},
   "source": [
    "Chosing your algorithm"
   ]
  },
  {
   "cell_type": "code",
   "execution_count": 2,
   "metadata": {
    "collapsed": true
   },
   "outputs": [],
   "source": [
    "from sklearn import linear_model, tree, discriminant_analysis, svm"
   ]
  },
  {
   "cell_type": "markdown",
   "metadata": {},
   "source": [
    "Tools for tunning"
   ]
  },
  {
   "cell_type": "code",
   "execution_count": 3,
   "metadata": {
    "collapsed": false
   },
   "outputs": [
    {
     "name": "stderr",
     "output_type": "stream",
     "text": [
      "/home/wespatrocinio/Apps/anaconda2/lib/python2.7/site-packages/sklearn/cross_validation.py:44: DeprecationWarning: This module was deprecated in version 0.18 in favor of the model_selection module into which all the refactored classes and functions are moved. Also note that the interface of the new CV iterators are different from that of this module. This module will be removed in 0.20.\n",
      "  \"This module will be removed in 0.20.\", DeprecationWarning)\n",
      "/home/wespatrocinio/Apps/anaconda2/lib/python2.7/site-packages/sklearn/grid_search.py:43: DeprecationWarning: This module was deprecated in version 0.18 in favor of the model_selection module into which all the refactored classes and functions are moved. This module will be removed in 0.20.\n",
      "  DeprecationWarning)\n"
     ]
    }
   ],
   "source": [
    "from sklearn.grid_search import GridSearchCV, RandomizedSearchCV"
   ]
  },
  {
   "cell_type": "code",
   "execution_count": 23,
   "metadata": {
    "collapsed": false
   },
   "outputs": [
    {
     "data": {
      "text/plain": [
       "RandomForestRegressor(bootstrap=True, criterion='mse', max_depth=None,\n",
       "           max_features='auto', max_leaf_nodes=None,\n",
       "           min_impurity_split=1e-07, min_samples_leaf=1,\n",
       "           min_samples_split=2, min_weight_fraction_leaf=0.0,\n",
       "           n_estimators=500, n_jobs=1, oob_score=True, random_state=0,\n",
       "           verbose=0, warm_start=False)"
      ]
     },
     "execution_count": 23,
     "metadata": {},
     "output_type": "execute_result"
    }
   ],
   "source": [
    "from sklearn.ensemble import RandomForestRegressor\n",
    "\n",
    "rf = RandomForestRegressor(n_estimators=500, oob_score=True, random_state=0)\n",
    "rf.fit(X_train, y_train)"
   ]
  },
  {
   "cell_type": "code",
   "execution_count": 30,
   "metadata": {
    "collapsed": false
   },
   "outputs": [
    {
     "name": "stdout",
     "output_type": "stream",
     "text": [
      "Out-of-bag R-2 score estimate: 0.841012707889\n",
      "Test data R-2 score: 0.885868268962\n",
      "Test data Spearman correlation: 0.903501805135\n",
      "Test data Pearson correlation: 0.941888050264\n"
     ]
    }
   ],
   "source": [
    "from sklearn.metrics import r2_score\n",
    "from scipy.stats import spearmanr, pearsonr\n",
    "\n",
    "predicted_train = rf.predict(X_train)\n",
    "predicted_test = rf.predict(X_test)\n",
    "test_score = r2_score(y_test, predicted_test)\n",
    "spearman = spearmanr(y_test, predicted_test)\n",
    "pearson = pearsonr(y_test, predicted_test)\n",
    "\n",
    "print \"Out-of-bag R-2 score estimate: {0}\".format(rf.oob_score_)\n",
    "print \"Test data R-2 score: {0}\".format(test_score)\n",
    "print \"Test data Spearman correlation: {0}\".format(spearman[0])\n",
    "print \"Test data Pearson correlation: {0}\".format(pearson[0])"
   ]
  },
  {
   "cell_type": "markdown",
   "metadata": {
    "nbpresent": {
     "id": "6bf7f07b-22a9-4bb8-b2f7-352afc455fd6"
    }
   },
   "source": [
    "## Evaluating model performance"
   ]
  },
  {
   "cell_type": "markdown",
   "metadata": {},
   "source": [
    "What to do if learning fails?\n",
    "\n",
    "- Get a larger sample\n",
    "- Change the hypothesis class by\n",
    "    - Enlarging it;\n",
    "    - Reducing it;\n",
    "    - Completely changing it;\n",
    "    - Changing the parameters you consider;\n",
    "- Change the feature representation of the data;\n",
    "- Change the optimization algorithm used to apply your learning rule;"
   ]
  },
  {
   "cell_type": "markdown",
   "metadata": {
    "nbpresent": {
     "id": "1e11b6c8-7455-4cf2-891f-04ec716bea67"
    }
   },
   "source": [
    "## Evaluating (offline) business gains "
   ]
  },
  {
   "cell_type": "markdown",
   "metadata": {
    "nbpresent": {
     "id": "f639c7ed-35e3-4d31-afb0-26f53e91103f"
    }
   },
   "source": [
    "## Evaluating model lifecycle"
   ]
  },
  {
   "cell_type": "code",
   "execution_count": null,
   "metadata": {
    "collapsed": true
   },
   "outputs": [],
   "source": []
  }
 ],
 "metadata": {
  "anaconda-cloud": {},
  "kernelspec": {
   "display_name": "Python 2",
   "language": "python",
   "name": "python2"
  },
  "language_info": {
   "codemirror_mode": {
    "name": "ipython",
    "version": 2
   },
   "file_extension": ".py",
   "mimetype": "text/x-python",
   "name": "python",
   "nbconvert_exporter": "python",
   "pygments_lexer": "ipython2",
   "version": "2.7.13"
  },
  "nbpresent": {
   "slides": {
    "4a22f55f-c311-44e8-956b-cb0af928ff8c": {
     "id": "4a22f55f-c311-44e8-956b-cb0af928ff8c",
     "prev": "5f90afcb-364b-4640-b626-f79af22893cc",
     "regions": {
      "13aac621-12ac-4606-9f49-8112ed6f218b": {
       "attrs": {
        "height": 0.4,
        "width": 0.8,
        "x": 0.1,
        "y": 0.5
       },
       "content": {
        "cell": "50e3a875-7282-4460-8ec0-cc81ca19e17a",
        "part": "whole"
       },
       "id": "13aac621-12ac-4606-9f49-8112ed6f218b"
      },
      "2678b6c1-7d29-42c2-9cdf-5bea3ac863a9": {
       "attrs": {
        "height": 0.4,
        "width": 0.8,
        "x": 0.1,
        "y": 0.5
       },
       "content": {
        "cell": "f639c7ed-35e3-4d31-afb0-26f53e91103f",
        "part": "whole"
       },
       "id": "2678b6c1-7d29-42c2-9cdf-5bea3ac863a9"
      },
      "4becea40-d6f7-469e-96ed-3c2fe8386a15": {
       "attrs": {
        "height": 0.4,
        "width": 0.8,
        "x": 0.1,
        "y": 0.5
       },
       "content": {
        "cell": "278420a1-2119-4576-aca0-62e88d5af191",
        "part": "whole"
       },
       "id": "4becea40-d6f7-469e-96ed-3c2fe8386a15"
      },
      "53b2d208-ac81-45b3-b002-9d530a393829": {
       "attrs": {
        "height": 0.4,
        "width": 0.8,
        "x": 0.1,
        "y": 0.5
       },
       "content": {
        "cell": "d97c81c8-0ecc-41ce-8de6-e7e86c55ae80",
        "part": "whole"
       },
       "id": "53b2d208-ac81-45b3-b002-9d530a393829"
      },
      "5f4ca53b-36d1-4e2b-a106-3f796bb4e616": {
       "attrs": {
        "height": 0.4,
        "width": 0.8,
        "x": 0.1,
        "y": 0.5
       },
       "content": {
        "cell": "6bf7f07b-22a9-4bb8-b2f7-352afc455fd6",
        "part": "whole"
       },
       "id": "5f4ca53b-36d1-4e2b-a106-3f796bb4e616"
      },
      "6d8d2941-b9b1-479f-ab8b-5905fd7f97af": {
       "attrs": {
        "height": 0.8,
        "width": 0.8,
        "x": 0.1,
        "y": 0.1
       },
       "content": {
        "cell": "2dba1c71-180a-4e62-a40e-2cadef266261",
        "part": "whole"
       },
       "id": "6d8d2941-b9b1-479f-ab8b-5905fd7f97af"
      },
      "98baa7e0-caf6-4f6e-8669-dbb2ddee233e": {
       "attrs": {
        "height": 0.4,
        "width": 0.8,
        "x": 0.1,
        "y": 0.5
       },
       "content": {
        "cell": "1e11b6c8-7455-4cf2-891f-04ec716bea67",
        "part": "whole"
       },
       "id": "98baa7e0-caf6-4f6e-8669-dbb2ddee233e"
      },
      "9d407cff-870c-4f97-85d0-3db1f4544b3a": {
       "attrs": {
        "height": 0.4,
        "width": 0.8,
        "x": 0.1,
        "y": 0.5
       },
       "content": {
        "cell": "6a3f4bab-af79-4a5b-a3cc-228fff561d65",
        "part": "whole"
       },
       "id": "9d407cff-870c-4f97-85d0-3db1f4544b3a"
      },
      "b9f907b1-015f-433e-8868-1cdb8b20a812": {
       "attrs": {
        "height": 0.4,
        "width": 0.8,
        "x": 0.1,
        "y": 0.5
       },
       "content": {
        "cell": "eddd60e6-4e84-448f-9acf-f519ae951990",
        "part": "whole"
       },
       "id": "b9f907b1-015f-433e-8868-1cdb8b20a812"
      },
      "bcef69e1-e906-4d75-a5bf-fb5384dd8b89": {
       "attrs": {
        "height": 0.4,
        "width": 0.8,
        "x": 0.1,
        "y": 0.5
       },
       "content": {
        "cell": "dc15b11f-0d18-47f4-82ab-7cef3e6de03a",
        "part": "whole"
       },
       "id": "bcef69e1-e906-4d75-a5bf-fb5384dd8b89"
      },
      "e81f7312-0d19-483d-a101-b1223815b7d2": {
       "attrs": {
        "height": 0.4,
        "width": 0.8,
        "x": 0.1,
        "y": 0.5
       },
       "content": {
        "cell": "32942df7-f50c-447e-a113-0261ed8814c4",
        "part": "whole"
       },
       "id": "e81f7312-0d19-483d-a101-b1223815b7d2"
      },
      "fecbcdd3-9d74-4901-898a-ceb44a4b0f1c": {
       "attrs": {
        "height": 0.4,
        "width": 0.8,
        "x": 0.1,
        "y": 0.5
       },
       "content": {
        "cell": "9cc61b72-a83c-4b8a-bdc5-e3760634e284",
        "part": "whole"
       },
       "id": "fecbcdd3-9d74-4901-898a-ceb44a4b0f1c"
      }
     }
    },
    "5f90afcb-364b-4640-b626-f79af22893cc": {
     "id": "5f90afcb-364b-4640-b626-f79af22893cc",
     "prev": null,
     "regions": {
      "a74d43ce-c84c-4c41-936c-3b81c7a0ee54": {
       "attrs": {
        "height": 0.4,
        "width": 0.8,
        "x": 0.1,
        "y": 0.5
       },
       "content": {
        "cell": "25d729d1-38ef-4930-a9e7-435a3bdb5fc9",
        "part": "whole"
       },
       "id": "a74d43ce-c84c-4c41-936c-3b81c7a0ee54"
      },
      "b8126ff3-850f-4055-8c58-cf2d56ed562b": {
       "attrs": {
        "height": 0.8,
        "width": 0.8,
        "x": 0.1,
        "y": 0.1
       },
       "content": {
        "cell": "caca2dc6-2f69-42ed-b6db-d13c72f29933",
        "part": "whole"
       },
       "id": "b8126ff3-850f-4055-8c58-cf2d56ed562b"
      }
     }
    }
   },
   "themes": {}
  }
 },
 "nbformat": 4,
 "nbformat_minor": 1
}
