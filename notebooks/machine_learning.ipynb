{
 "cells": [
  {
   "cell_type": "markdown",
   "metadata": {
    "nbpresent": {
     "id": "caca2dc6-2f69-42ed-b6db-d13c72f29933"
    },
    "slideshow": {
     "slide_type": "slide"
    }
   },
   "source": [
    "# Dev Week 2017 - Machine Learning & Recommender Systems"
   ]
  },
  {
   "cell_type": "markdown",
   "metadata": {
    "nbpresent": {
     "id": "25d729d1-38ef-4930-a9e7-435a3bdb5fc9"
    }
   },
   "source": [
    "This talk will present to you some basic concepts about Machine Learning and how we develop projects using this concept and related technologies (IMHO)."
   ]
  },
  {
   "cell_type": "markdown",
   "metadata": {
    "nbpresent": {
     "id": "2dba1c71-180a-4e62-a40e-2cadef266261"
    },
    "slideshow": {
     "slide_type": "slide"
    }
   },
   "source": [
    "## Fundamentals of Machine Learning"
   ]
  },
  {
   "cell_type": "markdown",
   "metadata": {},
   "source": [
    "### Some important points that we must keep in mind for this talk\n",
    "\n",
    "In terms of concept size: \n",
    "- Data Science and AI concepts is bigger than Machine Learning;\n",
    "- Machine Learning concept is bigger than Deep Learning;"
   ]
  },
  {
   "cell_type": "markdown",
   "metadata": {
    "nbpresent": {
     "id": "6a3f4bab-af79-4a5b-a3cc-228fff561d65"
    }
   },
   "source": [
    "## Connecting Machine Learning to a business goal"
   ]
  },
  {
   "cell_type": "markdown",
   "metadata": {
    "nbpresent": {
     "id": "32942df7-f50c-447e-a113-0261ed8814c4"
    }
   },
   "source": [
    "### Goals and metrics"
   ]
  },
  {
   "cell_type": "markdown",
   "metadata": {
    "nbpresent": {
     "id": "278420a1-2119-4576-aca0-62e88d5af191"
    }
   },
   "source": [
    "### Data domains"
   ]
  },
  {
   "cell_type": "code",
   "execution_count": 6,
   "metadata": {
    "collapsed": true
   },
   "outputs": [],
   "source": [
    "from sklearn import datasets"
   ]
  },
  {
   "cell_type": "markdown",
   "metadata": {
    "nbpresent": {
     "id": "eddd60e6-4e84-448f-9acf-f519ae951990"
    }
   },
   "source": [
    "### Offline evaluation framework"
   ]
  },
  {
   "cell_type": "markdown",
   "metadata": {
    "nbpresent": {
     "id": "dc15b11f-0d18-47f4-82ab-7cef3e6de03a"
    }
   },
   "source": [
    "## Algorithm engineering"
   ]
  },
  {
   "cell_type": "markdown",
   "metadata": {},
   "source": [
    "Chosing your algorithm"
   ]
  },
  {
   "cell_type": "code",
   "execution_count": 3,
   "metadata": {
    "collapsed": true
   },
   "outputs": [],
   "source": [
    "from sklearn import linear_model, tree, discriminant_analysis, svm"
   ]
  },
  {
   "cell_type": "markdown",
   "metadata": {},
   "source": [
    "Tools for tunning"
   ]
  },
  {
   "cell_type": "code",
   "execution_count": 5,
   "metadata": {
    "collapsed": false
   },
   "outputs": [],
   "source": [
    "from sklearn.grid_search import GridSearchCV, RandomizedSearchCV"
   ]
  },
  {
   "cell_type": "markdown",
   "metadata": {
    "nbpresent": {
     "id": "9cc61b72-a83c-4b8a-bdc5-e3760634e284"
    }
   },
   "source": [
    "## Feature engineering"
   ]
  },
  {
   "cell_type": "markdown",
   "metadata": {
    "nbpresent": {
     "id": "6bf7f07b-22a9-4bb8-b2f7-352afc455fd6"
    }
   },
   "source": [
    "## Evaluating model performance"
   ]
  },
  {
   "cell_type": "markdown",
   "metadata": {
    "nbpresent": {
     "id": "1e11b6c8-7455-4cf2-891f-04ec716bea67"
    }
   },
   "source": [
    "## Evaluating (offline) business gains "
   ]
  },
  {
   "cell_type": "markdown",
   "metadata": {
    "nbpresent": {
     "id": "f639c7ed-35e3-4d31-afb0-26f53e91103f"
    }
   },
   "source": [
    "## Evaluating model lifecycle"
   ]
  },
  {
   "cell_type": "markdown",
   "metadata": {
    "nbpresent": {
     "id": "d97c81c8-0ecc-41ce-8de6-e7e86c55ae80"
    }
   },
   "source": [
    "## Architecting a recommender system"
   ]
  },
  {
   "cell_type": "code",
   "execution_count": null,
   "metadata": {
    "collapsed": true,
    "nbpresent": {
     "id": "50e3a875-7282-4460-8ec0-cc81ca19e17a"
    }
   },
   "outputs": [],
   "source": []
  }
 ],
 "metadata": {
  "anaconda-cloud": {},
  "celltoolbar": "Raw Cell Format",
  "kernelspec": {
   "display_name": "Python [default]",
   "language": "python",
   "name": "python2"
  },
  "language_info": {
   "codemirror_mode": {
    "name": "ipython",
    "version": 2
   },
   "file_extension": ".py",
   "mimetype": "text/x-python",
   "name": "python",
   "nbconvert_exporter": "python",
   "pygments_lexer": "ipython2",
   "version": "2.7.12"
  },
  "nbpresent": {
   "slides": {
    "4a22f55f-c311-44e8-956b-cb0af928ff8c": {
     "id": "4a22f55f-c311-44e8-956b-cb0af928ff8c",
     "prev": "5f90afcb-364b-4640-b626-f79af22893cc",
     "regions": {
      "13aac621-12ac-4606-9f49-8112ed6f218b": {
       "attrs": {
        "height": 0.4,
        "width": 0.8,
        "x": 0.1,
        "y": 0.5
       },
       "content": {
        "cell": "50e3a875-7282-4460-8ec0-cc81ca19e17a",
        "part": "whole"
       },
       "id": "13aac621-12ac-4606-9f49-8112ed6f218b"
      },
      "2678b6c1-7d29-42c2-9cdf-5bea3ac863a9": {
       "attrs": {
        "height": 0.4,
        "width": 0.8,
        "x": 0.1,
        "y": 0.5
       },
       "content": {
        "cell": "f639c7ed-35e3-4d31-afb0-26f53e91103f",
        "part": "whole"
       },
       "id": "2678b6c1-7d29-42c2-9cdf-5bea3ac863a9"
      },
      "4becea40-d6f7-469e-96ed-3c2fe8386a15": {
       "attrs": {
        "height": 0.4,
        "width": 0.8,
        "x": 0.1,
        "y": 0.5
       },
       "content": {
        "cell": "278420a1-2119-4576-aca0-62e88d5af191",
        "part": "whole"
       },
       "id": "4becea40-d6f7-469e-96ed-3c2fe8386a15"
      },
      "53b2d208-ac81-45b3-b002-9d530a393829": {
       "attrs": {
        "height": 0.4,
        "width": 0.8,
        "x": 0.1,
        "y": 0.5
       },
       "content": {
        "cell": "d97c81c8-0ecc-41ce-8de6-e7e86c55ae80",
        "part": "whole"
       },
       "id": "53b2d208-ac81-45b3-b002-9d530a393829"
      },
      "5f4ca53b-36d1-4e2b-a106-3f796bb4e616": {
       "attrs": {
        "height": 0.4,
        "width": 0.8,
        "x": 0.1,
        "y": 0.5
       },
       "content": {
        "cell": "6bf7f07b-22a9-4bb8-b2f7-352afc455fd6",
        "part": "whole"
       },
       "id": "5f4ca53b-36d1-4e2b-a106-3f796bb4e616"
      },
      "6d8d2941-b9b1-479f-ab8b-5905fd7f97af": {
       "attrs": {
        "height": 0.8,
        "width": 0.8,
        "x": 0.1,
        "y": 0.1
       },
       "content": {
        "cell": "2dba1c71-180a-4e62-a40e-2cadef266261",
        "part": "whole"
       },
       "id": "6d8d2941-b9b1-479f-ab8b-5905fd7f97af"
      },
      "98baa7e0-caf6-4f6e-8669-dbb2ddee233e": {
       "attrs": {
        "height": 0.4,
        "width": 0.8,
        "x": 0.1,
        "y": 0.5
       },
       "content": {
        "cell": "1e11b6c8-7455-4cf2-891f-04ec716bea67",
        "part": "whole"
       },
       "id": "98baa7e0-caf6-4f6e-8669-dbb2ddee233e"
      },
      "9d407cff-870c-4f97-85d0-3db1f4544b3a": {
       "attrs": {
        "height": 0.4,
        "width": 0.8,
        "x": 0.1,
        "y": 0.5
       },
       "content": {
        "cell": "6a3f4bab-af79-4a5b-a3cc-228fff561d65",
        "part": "whole"
       },
       "id": "9d407cff-870c-4f97-85d0-3db1f4544b3a"
      },
      "b9f907b1-015f-433e-8868-1cdb8b20a812": {
       "attrs": {
        "height": 0.4,
        "width": 0.8,
        "x": 0.1,
        "y": 0.5
       },
       "content": {
        "cell": "eddd60e6-4e84-448f-9acf-f519ae951990",
        "part": "whole"
       },
       "id": "b9f907b1-015f-433e-8868-1cdb8b20a812"
      },
      "bcef69e1-e906-4d75-a5bf-fb5384dd8b89": {
       "attrs": {
        "height": 0.4,
        "width": 0.8,
        "x": 0.1,
        "y": 0.5
       },
       "content": {
        "cell": "dc15b11f-0d18-47f4-82ab-7cef3e6de03a",
        "part": "whole"
       },
       "id": "bcef69e1-e906-4d75-a5bf-fb5384dd8b89"
      },
      "e81f7312-0d19-483d-a101-b1223815b7d2": {
       "attrs": {
        "height": 0.4,
        "width": 0.8,
        "x": 0.1,
        "y": 0.5
       },
       "content": {
        "cell": "32942df7-f50c-447e-a113-0261ed8814c4",
        "part": "whole"
       },
       "id": "e81f7312-0d19-483d-a101-b1223815b7d2"
      },
      "fecbcdd3-9d74-4901-898a-ceb44a4b0f1c": {
       "attrs": {
        "height": 0.4,
        "width": 0.8,
        "x": 0.1,
        "y": 0.5
       },
       "content": {
        "cell": "9cc61b72-a83c-4b8a-bdc5-e3760634e284",
        "part": "whole"
       },
       "id": "fecbcdd3-9d74-4901-898a-ceb44a4b0f1c"
      }
     }
    },
    "5f90afcb-364b-4640-b626-f79af22893cc": {
     "id": "5f90afcb-364b-4640-b626-f79af22893cc",
     "prev": null,
     "regions": {
      "a74d43ce-c84c-4c41-936c-3b81c7a0ee54": {
       "attrs": {
        "height": 0.4,
        "width": 0.8,
        "x": 0.1,
        "y": 0.5
       },
       "content": {
        "cell": "25d729d1-38ef-4930-a9e7-435a3bdb5fc9",
        "part": "whole"
       },
       "id": "a74d43ce-c84c-4c41-936c-3b81c7a0ee54"
      },
      "b8126ff3-850f-4055-8c58-cf2d56ed562b": {
       "attrs": {
        "height": 0.8,
        "width": 0.8,
        "x": 0.1,
        "y": 0.1
       },
       "content": {
        "cell": "caca2dc6-2f69-42ed-b6db-d13c72f29933",
        "part": "whole"
       },
       "id": "b8126ff3-850f-4055-8c58-cf2d56ed562b"
      }
     }
    }
   },
   "themes": {}
  }
 },
 "nbformat": 4,
 "nbformat_minor": 1
}
