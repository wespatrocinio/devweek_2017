{
 "cells": [
  {
   "cell_type": "markdown",
   "metadata": {
    "nbpresent": {
     "id": "caca2dc6-2f69-42ed-b6db-d13c72f29933"
    },
    "slideshow": {
     "slide_type": "slide"
    }
   },
   "source": [
    "# Dev Week 2017 - Machine Learning & Recommender Systems"
   ]
  },
  {
   "cell_type": "markdown",
   "metadata": {
    "nbpresent": {
     "id": "25d729d1-38ef-4930-a9e7-435a3bdb5fc9"
    }
   },
   "source": [
    "This talk will present to you some basic concepts about Machine Learning and how we develop projects using this concept and related technologies (IMHO)."
   ]
  },
  {
   "cell_type": "markdown",
   "metadata": {
    "nbpresent": {
     "id": "2dba1c71-180a-4e62-a40e-2cadef266261"
    },
    "slideshow": {
     "slide_type": "slide"
    }
   },
   "source": [
    "## Fundamentals of Machine Learning"
   ]
  },
  {
   "cell_type": "markdown",
   "metadata": {
    "slideshow": {
     "slide_type": "fragment"
    }
   },
   "source": [
    "### Some important points that we must keep in mind for this talk\n",
    "\n",
    "In terms of concept size: \n",
    "- Data Science and AI concepts is bigger than Machine Learning;\n",
    "- Machine Learning concept is bigger than Deep Learning;"
   ]
  },
  {
   "cell_type": "markdown",
   "metadata": {
    "slideshow": {
     "slide_type": "fragment"
    }
   },
   "source": [
    "### What is learning?\n",
    "\n",
    "- Using past experiences to acquire expertise in execute a specific task;\n",
    "- Do you wanna an example? Pretend to grab a stone from ground near a street dog!"
   ]
  },
  {
   "cell_type": "markdown",
   "metadata": {
    "slideshow": {
     "slide_type": "fragment"
    }
   },
   "source": [
    "### What is machine learning?\n",
    "\n",
    "- When you program a machine to learn how to execute a specific task;\n",
    "- The old but gold example of filtering Spams;"
   ]
  },
  {
   "cell_type": "markdown",
   "metadata": {},
   "source": [
    "### Types of learning"
   ]
  },
  {
   "cell_type": "markdown",
   "metadata": {},
   "source": [
    "#### Supervised versus Unsupervised\n",
    "\n",
    "*Supervised:* when you learn from a targeted amount of data how to target another amount of data;\n",
    "\n",
    "*Unsupervised:* no targets;"
   ]
  },
  {
   "cell_type": "markdown",
   "metadata": {},
   "source": [
    "### Classification, regression, multiclass, ranking and complex predictions\n",
    "\n",
    "*Simple (binary) classification:* you have two classes and a new sample must fit one of the two classes;\n",
    "\n",
    "*Regression:* you must to predict a continuous value for your new samples;\n",
    "\n",
    "*Multi classification:* you have more than two classes;\n",
    "\n",
    "*Ranking:* You must order a set of instances by relevance;\n",
    "\n",
    "*Complex prediction:* As an example, cost sensitive classification;"
   ]
  },
  {
   "cell_type": "markdown",
   "metadata": {},
   "source": [
    "#### Active versus Passive learners\n",
    "\n",
    "About how the learner interacts with the environment at training time. If actively performs interactions (A/B tests, questions, etc.) or wait for another actor to bring to learnship."
   ]
  },
  {
   "cell_type": "markdown",
   "metadata": {},
   "source": [
    "#### Online versus batch learning\n",
    "\n",
    "The frequency and/or lifecycle of when your learner incorporates the learnship;"
   ]
  },
  {
   "cell_type": "markdown",
   "metadata": {},
   "source": [
    "### Overfitting\n",
    "\n",
    "- When your predictor performance on the training set is excellent, yet its performance on the ground truth is very poor;\n",
    "- In other words, occurs when your hypothesis fits the training data \"too well\";"
   ]
  },
  {
   "cell_type": "markdown",
   "metadata": {},
   "source": [
    "### Bias\n",
    "\n",
    "- When you inducts your learn to a specific \"conclusion\";\n",
    "- Be CAREFUL with assumptions;\n",
    "> \"In the face of ambiguity, refuse the temptation to guess.\" (The Zen of Python, by Tim Peters)"
   ]
  },
  {
   "cell_type": "markdown",
   "metadata": {},
   "source": [
    "### Algorithms types\n",
    "\n",
    "- Linear regression;\n",
    "- Support Vector Machines;\n",
    "- Decision trees;\n",
    "- Ensembles;\n",
    "- Neural networks;"
   ]
  },
  {
   "cell_type": "markdown",
   "metadata": {
    "nbpresent": {
     "id": "6a3f4bab-af79-4a5b-a3cc-228fff561d65"
    }
   },
   "source": [
    "## Connecting Machine Learning to a business goal"
   ]
  },
  {
   "cell_type": "markdown",
   "metadata": {
    "nbpresent": {
     "id": "32942df7-f50c-447e-a113-0261ed8814c4"
    }
   },
   "source": [
    "### Goals and metrics\n",
    "\n",
    "In successful Machine Learning projects, the intelligence being developed is strongly coupled to a very specific goal and measured by a very specific metric. So:\n",
    "\n",
    "- Always define the goal and metric before the development kick-off\n",
    "- Plan and architect your Machine Learning strategy over the goal and metric previously defined\n",
    "- Use goal and metric to measure the performance of your intelligence"
   ]
  },
  {
   "cell_type": "markdown",
   "metadata": {
    "nbpresent": {
     "id": "278420a1-2119-4576-aca0-62e88d5af191"
    }
   },
   "source": [
    "### Data domains\n",
    "\n",
    "- A data domain are the group of datasets that compose the available description of your context and its players and events;\n",
    "- For example, if you have an e-commerce, your data domain is all data **available** that describes your customers, the products being selled, financial transactions, etc.\n",
    "- Two different data domains can have distinct definitions of the same player or event. Wanna an example? CHURN!"
   ]
  },
  {
   "cell_type": "code",
   "execution_count": 1,
   "metadata": {
    "collapsed": false
   },
   "outputs": [],
   "source": [
    "%matplotlib inline\n",
    "\n",
    "import pandas as pd\n",
    "import matplotlib.pyplot as plt\n",
    "import seaborn as sns\n",
    "import numpy as np\n",
    "\n",
    "from sklearn import datasets"
   ]
  },
  {
   "cell_type": "code",
   "execution_count": 2,
   "metadata": {
    "collapsed": false
   },
   "outputs": [
    {
     "data": {
      "text/html": [
       "<div>\n",
       "<table border=\"1\" class=\"dataframe\">\n",
       "  <thead>\n",
       "    <tr style=\"text-align: right;\">\n",
       "      <th></th>\n",
       "      <th>mean radius</th>\n",
       "      <th>mean texture</th>\n",
       "      <th>mean perimeter</th>\n",
       "      <th>mean area</th>\n",
       "      <th>mean smoothness</th>\n",
       "      <th>mean compactness</th>\n",
       "      <th>mean concavity</th>\n",
       "      <th>mean concave points</th>\n",
       "      <th>mean symmetry</th>\n",
       "      <th>mean fractal dimension</th>\n",
       "      <th>...</th>\n",
       "      <th>worst radius</th>\n",
       "      <th>worst texture</th>\n",
       "      <th>worst perimeter</th>\n",
       "      <th>worst area</th>\n",
       "      <th>worst smoothness</th>\n",
       "      <th>worst compactness</th>\n",
       "      <th>worst concavity</th>\n",
       "      <th>worst concave points</th>\n",
       "      <th>worst symmetry</th>\n",
       "      <th>worst fractal dimension</th>\n",
       "    </tr>\n",
       "  </thead>\n",
       "  <tbody>\n",
       "    <tr>\n",
       "      <th>0</th>\n",
       "      <td>17.99</td>\n",
       "      <td>10.38</td>\n",
       "      <td>122.80</td>\n",
       "      <td>1001.0</td>\n",
       "      <td>0.11840</td>\n",
       "      <td>0.27760</td>\n",
       "      <td>0.3001</td>\n",
       "      <td>0.14710</td>\n",
       "      <td>0.2419</td>\n",
       "      <td>0.07871</td>\n",
       "      <td>...</td>\n",
       "      <td>25.38</td>\n",
       "      <td>17.33</td>\n",
       "      <td>184.60</td>\n",
       "      <td>2019.0</td>\n",
       "      <td>0.1622</td>\n",
       "      <td>0.6656</td>\n",
       "      <td>0.7119</td>\n",
       "      <td>0.2654</td>\n",
       "      <td>0.4601</td>\n",
       "      <td>0.11890</td>\n",
       "    </tr>\n",
       "    <tr>\n",
       "      <th>1</th>\n",
       "      <td>20.57</td>\n",
       "      <td>17.77</td>\n",
       "      <td>132.90</td>\n",
       "      <td>1326.0</td>\n",
       "      <td>0.08474</td>\n",
       "      <td>0.07864</td>\n",
       "      <td>0.0869</td>\n",
       "      <td>0.07017</td>\n",
       "      <td>0.1812</td>\n",
       "      <td>0.05667</td>\n",
       "      <td>...</td>\n",
       "      <td>24.99</td>\n",
       "      <td>23.41</td>\n",
       "      <td>158.80</td>\n",
       "      <td>1956.0</td>\n",
       "      <td>0.1238</td>\n",
       "      <td>0.1866</td>\n",
       "      <td>0.2416</td>\n",
       "      <td>0.1860</td>\n",
       "      <td>0.2750</td>\n",
       "      <td>0.08902</td>\n",
       "    </tr>\n",
       "    <tr>\n",
       "      <th>2</th>\n",
       "      <td>19.69</td>\n",
       "      <td>21.25</td>\n",
       "      <td>130.00</td>\n",
       "      <td>1203.0</td>\n",
       "      <td>0.10960</td>\n",
       "      <td>0.15990</td>\n",
       "      <td>0.1974</td>\n",
       "      <td>0.12790</td>\n",
       "      <td>0.2069</td>\n",
       "      <td>0.05999</td>\n",
       "      <td>...</td>\n",
       "      <td>23.57</td>\n",
       "      <td>25.53</td>\n",
       "      <td>152.50</td>\n",
       "      <td>1709.0</td>\n",
       "      <td>0.1444</td>\n",
       "      <td>0.4245</td>\n",
       "      <td>0.4504</td>\n",
       "      <td>0.2430</td>\n",
       "      <td>0.3613</td>\n",
       "      <td>0.08758</td>\n",
       "    </tr>\n",
       "    <tr>\n",
       "      <th>3</th>\n",
       "      <td>11.42</td>\n",
       "      <td>20.38</td>\n",
       "      <td>77.58</td>\n",
       "      <td>386.1</td>\n",
       "      <td>0.14250</td>\n",
       "      <td>0.28390</td>\n",
       "      <td>0.2414</td>\n",
       "      <td>0.10520</td>\n",
       "      <td>0.2597</td>\n",
       "      <td>0.09744</td>\n",
       "      <td>...</td>\n",
       "      <td>14.91</td>\n",
       "      <td>26.50</td>\n",
       "      <td>98.87</td>\n",
       "      <td>567.7</td>\n",
       "      <td>0.2098</td>\n",
       "      <td>0.8663</td>\n",
       "      <td>0.6869</td>\n",
       "      <td>0.2575</td>\n",
       "      <td>0.6638</td>\n",
       "      <td>0.17300</td>\n",
       "    </tr>\n",
       "    <tr>\n",
       "      <th>4</th>\n",
       "      <td>20.29</td>\n",
       "      <td>14.34</td>\n",
       "      <td>135.10</td>\n",
       "      <td>1297.0</td>\n",
       "      <td>0.10030</td>\n",
       "      <td>0.13280</td>\n",
       "      <td>0.1980</td>\n",
       "      <td>0.10430</td>\n",
       "      <td>0.1809</td>\n",
       "      <td>0.05883</td>\n",
       "      <td>...</td>\n",
       "      <td>22.54</td>\n",
       "      <td>16.67</td>\n",
       "      <td>152.20</td>\n",
       "      <td>1575.0</td>\n",
       "      <td>0.1374</td>\n",
       "      <td>0.2050</td>\n",
       "      <td>0.4000</td>\n",
       "      <td>0.1625</td>\n",
       "      <td>0.2364</td>\n",
       "      <td>0.07678</td>\n",
       "    </tr>\n",
       "  </tbody>\n",
       "</table>\n",
       "<p>5 rows × 30 columns</p>\n",
       "</div>"
      ],
      "text/plain": [
       "   mean radius  mean texture  mean perimeter  mean area  mean smoothness  \\\n",
       "0        17.99         10.38          122.80     1001.0          0.11840   \n",
       "1        20.57         17.77          132.90     1326.0          0.08474   \n",
       "2        19.69         21.25          130.00     1203.0          0.10960   \n",
       "3        11.42         20.38           77.58      386.1          0.14250   \n",
       "4        20.29         14.34          135.10     1297.0          0.10030   \n",
       "\n",
       "   mean compactness  mean concavity  mean concave points  mean symmetry  \\\n",
       "0           0.27760          0.3001              0.14710         0.2419   \n",
       "1           0.07864          0.0869              0.07017         0.1812   \n",
       "2           0.15990          0.1974              0.12790         0.2069   \n",
       "3           0.28390          0.2414              0.10520         0.2597   \n",
       "4           0.13280          0.1980              0.10430         0.1809   \n",
       "\n",
       "   mean fractal dimension           ...             worst radius  \\\n",
       "0                 0.07871           ...                    25.38   \n",
       "1                 0.05667           ...                    24.99   \n",
       "2                 0.05999           ...                    23.57   \n",
       "3                 0.09744           ...                    14.91   \n",
       "4                 0.05883           ...                    22.54   \n",
       "\n",
       "   worst texture  worst perimeter  worst area  worst smoothness  \\\n",
       "0          17.33           184.60      2019.0            0.1622   \n",
       "1          23.41           158.80      1956.0            0.1238   \n",
       "2          25.53           152.50      1709.0            0.1444   \n",
       "3          26.50            98.87       567.7            0.2098   \n",
       "4          16.67           152.20      1575.0            0.1374   \n",
       "\n",
       "   worst compactness  worst concavity  worst concave points  worst symmetry  \\\n",
       "0             0.6656           0.7119                0.2654          0.4601   \n",
       "1             0.1866           0.2416                0.1860          0.2750   \n",
       "2             0.4245           0.4504                0.2430          0.3613   \n",
       "3             0.8663           0.6869                0.2575          0.6638   \n",
       "4             0.2050           0.4000                0.1625          0.2364   \n",
       "\n",
       "   worst fractal dimension  \n",
       "0                  0.11890  \n",
       "1                  0.08902  \n",
       "2                  0.08758  \n",
       "3                  0.17300  \n",
       "4                  0.07678  \n",
       "\n",
       "[5 rows x 30 columns]"
      ]
     },
     "execution_count": 2,
     "metadata": {},
     "output_type": "execute_result"
    }
   ],
   "source": [
    "bc = datasets.load_breast_cancer()\n",
    "features = pd.DataFrame(bc.data, columns=bc.feature_names)\n",
    "targets = bc.target\n",
    "\n",
    "features.head()"
   ]
  },
  {
   "cell_type": "markdown",
   "metadata": {},
   "source": [
    "- CRIM: per capita crime rate by town\n",
    "- ZN: proportion of residential land zoned for lots over 25,000 sq.ft.\n",
    "- INDUS: proportion of non-retail business acres per town\n",
    "- CHAS: Charles River dummy variable (= 1 if tract bounds river; 0 otherwise)\n",
    "- NOX: nitric oxides concentration (parts per 10 million)\n",
    "- RM: average number of rooms per dwelling\n",
    "- AGE: proportion of owner-occupied units built prior to 1940\n",
    "- DIS: weighted distances to five Boston employment centres\n",
    "- RAD: index of accessibility to radial highways\n",
    "- TAX: full-value property-tax rate per \\$10,000\n",
    "- PTRATIO: pupil-teacher ratio by town\n",
    "- B: $ 1000(Bk - 0.63)^2 $ where Bk is the proportion of blacks by town\n",
    "- LSTAT: percentage lower status of the population\n",
    "- MEDV: Median value of owner-occupied homes in \\$1000's"
   ]
  },
  {
   "cell_type": "markdown",
   "metadata": {
    "nbpresent": {
     "id": "eddd60e6-4e84-448f-9acf-f519ae951990"
    }
   },
   "source": [
    "### Offline evaluation framework"
   ]
  },
  {
   "cell_type": "markdown",
   "metadata": {
    "nbpresent": {
     "id": "9cc61b72-a83c-4b8a-bdc5-e3760634e284"
    }
   },
   "source": [
    "## Feature engineering"
   ]
  },
  {
   "cell_type": "markdown",
   "metadata": {},
   "source": [
    "Standardization"
   ]
  },
  {
   "cell_type": "code",
   "execution_count": 19,
   "metadata": {
    "collapsed": false
   },
   "outputs": [],
   "source": [
    "from sklearn.model_selection import train_test_split\n",
    "from sklearn.preprocessing import StandardScaler\n",
    "\n",
    "X_train, X_test, y_train, y_test = train_test_split(features, targets, train_size=0.8, random_state=42)\n",
    "scaler = StandardScaler().fit(X_train)\n",
    "X_train_scaled = pd.DataFrame(scaler.transform(X_train), index=X_train.index.values, columns=X_train.columns.values)\n",
    "X_test_scaled = pd.DataFrame(scaler.transform(X_test), index=X_test.index.values, columns=X_test.columns.values)"
   ]
  },
  {
   "cell_type": "markdown",
   "metadata": {},
   "source": [
    "Dimensionality analysis"
   ]
  },
  {
   "cell_type": "code",
   "execution_count": 22,
   "metadata": {
    "collapsed": false
   },
   "outputs": [],
   "source": [
    "from sklearn.decomposition import PCA\n",
    "pca = PCA()\n",
    "pca.fit(X_train)\n",
    "cpts = pd.DataFrame(pca.transform(X_train))\n",
    "x_axis = np.arange(1, pca.n_components_+1)\n",
    "pca_scaled = PCA()\n",
    "pca_scaled.fit(X_train_scaled)\n",
    "cpts_scaled = pd.DataFrame(pca.transform(X_train_scaled))"
   ]
  },
  {
   "cell_type": "markdown",
   "metadata": {
    "nbpresent": {
     "id": "dc15b11f-0d18-47f4-82ab-7cef3e6de03a"
    }
   },
   "source": [
    "## Algorithm engineering"
   ]
  },
  {
   "cell_type": "markdown",
   "metadata": {},
   "source": [
    "Chosing your algorithm"
   ]
  },
  {
   "cell_type": "code",
   "execution_count": 2,
   "metadata": {
    "collapsed": true
   },
   "outputs": [],
   "source": [
    "from sklearn import linear_model, tree, discriminant_analysis, svm"
   ]
  },
  {
   "cell_type": "markdown",
   "metadata": {},
   "source": [
    "Tools for tunning"
   ]
  },
  {
   "cell_type": "code",
   "execution_count": 3,
   "metadata": {
    "collapsed": false
   },
   "outputs": [
    {
     "name": "stderr",
     "output_type": "stream",
     "text": [
      "/home/wespatrocinio/Apps/anaconda2/lib/python2.7/site-packages/sklearn/cross_validation.py:44: DeprecationWarning: This module was deprecated in version 0.18 in favor of the model_selection module into which all the refactored classes and functions are moved. Also note that the interface of the new CV iterators are different from that of this module. This module will be removed in 0.20.\n",
      "  \"This module will be removed in 0.20.\", DeprecationWarning)\n",
      "/home/wespatrocinio/Apps/anaconda2/lib/python2.7/site-packages/sklearn/grid_search.py:43: DeprecationWarning: This module was deprecated in version 0.18 in favor of the model_selection module into which all the refactored classes and functions are moved. This module will be removed in 0.20.\n",
      "  DeprecationWarning)\n"
     ]
    }
   ],
   "source": [
    "from sklearn.grid_search import GridSearchCV, RandomizedSearchCV"
   ]
  },
  {
   "cell_type": "code",
   "execution_count": 23,
   "metadata": {
    "collapsed": false
   },
   "outputs": [
    {
     "data": {
      "text/plain": [
       "RandomForestRegressor(bootstrap=True, criterion='mse', max_depth=None,\n",
       "           max_features='auto', max_leaf_nodes=None,\n",
       "           min_impurity_split=1e-07, min_samples_leaf=1,\n",
       "           min_samples_split=2, min_weight_fraction_leaf=0.0,\n",
       "           n_estimators=500, n_jobs=1, oob_score=True, random_state=0,\n",
       "           verbose=0, warm_start=False)"
      ]
     },
     "execution_count": 23,
     "metadata": {},
     "output_type": "execute_result"
    }
   ],
   "source": [
    "from sklearn.ensemble import RandomForestRegressor\n",
    "\n",
    "rf = RandomForestRegressor(n_estimators=500, oob_score=True, random_state=0)\n",
    "rf.fit(X_train, y_train)"
   ]
  },
  {
   "cell_type": "code",
   "execution_count": 30,
   "metadata": {
    "collapsed": false
   },
   "outputs": [
    {
     "name": "stdout",
     "output_type": "stream",
     "text": [
      "Out-of-bag R-2 score estimate: 0.841012707889\n",
      "Test data R-2 score: 0.885868268962\n",
      "Test data Spearman correlation: 0.903501805135\n",
      "Test data Pearson correlation: 0.941888050264\n"
     ]
    }
   ],
   "source": [
    "from sklearn.metrics import r2_score\n",
    "from scipy.stats import spearmanr, pearsonr\n",
    "\n",
    "predicted_train = rf.predict(X_train)\n",
    "predicted_test = rf.predict(X_test)\n",
    "test_score = r2_score(y_test, predicted_test)\n",
    "spearman = spearmanr(y_test, predicted_test)\n",
    "pearson = pearsonr(y_test, predicted_test)\n",
    "\n",
    "print \"Out-of-bag R-2 score estimate: {0}\".format(rf.oob_score_)\n",
    "print \"Test data R-2 score: {0}\".format(test_score)\n",
    "print \"Test data Spearman correlation: {0}\".format(spearman[0])\n",
    "print \"Test data Pearson correlation: {0}\".format(pearson[0])"
   ]
  },
  {
   "cell_type": "markdown",
   "metadata": {
    "nbpresent": {
     "id": "6bf7f07b-22a9-4bb8-b2f7-352afc455fd6"
    }
   },
   "source": [
    "## Evaluating model performance"
   ]
  },
  {
   "cell_type": "markdown",
   "metadata": {},
   "source": [
    "What to do if learning fails?\n",
    "\n",
    "- Get a larger sample\n",
    "- Change the hypothesis class by\n",
    "    - Enlarging it;\n",
    "    - Reducing it;\n",
    "    - Completely changing it;\n",
    "    - Changing the parameters you consider;\n",
    "- Change the feature representation of the data;\n",
    "- Change the optimization algorithm used to apply your learning rule;"
   ]
  },
  {
   "cell_type": "markdown",
   "metadata": {
    "nbpresent": {
     "id": "1e11b6c8-7455-4cf2-891f-04ec716bea67"
    }
   },
   "source": [
    "## Evaluating (offline) business gains "
   ]
  },
  {
   "cell_type": "markdown",
   "metadata": {
    "nbpresent": {
     "id": "f639c7ed-35e3-4d31-afb0-26f53e91103f"
    }
   },
   "source": [
    "## Evaluating model lifecycle"
   ]
  },
  {
   "cell_type": "code",
   "execution_count": null,
   "metadata": {
    "collapsed": true
   },
   "outputs": [],
   "source": []
  }
 ],
 "metadata": {
  "anaconda-cloud": {},
  "kernelspec": {
   "display_name": "Python 2",
   "language": "python",
   "name": "python2"
  },
  "language_info": {
   "codemirror_mode": {
    "name": "ipython",
    "version": 2
   },
   "file_extension": ".py",
   "mimetype": "text/x-python",
   "name": "python",
   "nbconvert_exporter": "python",
   "pygments_lexer": "ipython2",
   "version": "2.7.13"
  },
  "nbpresent": {
   "slides": {
    "4a22f55f-c311-44e8-956b-cb0af928ff8c": {
     "id": "4a22f55f-c311-44e8-956b-cb0af928ff8c",
     "prev": "5f90afcb-364b-4640-b626-f79af22893cc",
     "regions": {
      "13aac621-12ac-4606-9f49-8112ed6f218b": {
       "attrs": {
        "height": 0.4,
        "width": 0.8,
        "x": 0.1,
        "y": 0.5
       },
       "content": {
        "cell": "50e3a875-7282-4460-8ec0-cc81ca19e17a",
        "part": "whole"
       },
       "id": "13aac621-12ac-4606-9f49-8112ed6f218b"
      },
      "2678b6c1-7d29-42c2-9cdf-5bea3ac863a9": {
       "attrs": {
        "height": 0.4,
        "width": 0.8,
        "x": 0.1,
        "y": 0.5
       },
       "content": {
        "cell": "f639c7ed-35e3-4d31-afb0-26f53e91103f",
        "part": "whole"
       },
       "id": "2678b6c1-7d29-42c2-9cdf-5bea3ac863a9"
      },
      "4becea40-d6f7-469e-96ed-3c2fe8386a15": {
       "attrs": {
        "height": 0.4,
        "width": 0.8,
        "x": 0.1,
        "y": 0.5
       },
       "content": {
        "cell": "278420a1-2119-4576-aca0-62e88d5af191",
        "part": "whole"
       },
       "id": "4becea40-d6f7-469e-96ed-3c2fe8386a15"
      },
      "53b2d208-ac81-45b3-b002-9d530a393829": {
       "attrs": {
        "height": 0.4,
        "width": 0.8,
        "x": 0.1,
        "y": 0.5
       },
       "content": {
        "cell": "d97c81c8-0ecc-41ce-8de6-e7e86c55ae80",
        "part": "whole"
       },
       "id": "53b2d208-ac81-45b3-b002-9d530a393829"
      },
      "5f4ca53b-36d1-4e2b-a106-3f796bb4e616": {
       "attrs": {
        "height": 0.4,
        "width": 0.8,
        "x": 0.1,
        "y": 0.5
       },
       "content": {
        "cell": "6bf7f07b-22a9-4bb8-b2f7-352afc455fd6",
        "part": "whole"
       },
       "id": "5f4ca53b-36d1-4e2b-a106-3f796bb4e616"
      },
      "6d8d2941-b9b1-479f-ab8b-5905fd7f97af": {
       "attrs": {
        "height": 0.8,
        "width": 0.8,
        "x": 0.1,
        "y": 0.1
       },
       "content": {
        "cell": "2dba1c71-180a-4e62-a40e-2cadef266261",
        "part": "whole"
       },
       "id": "6d8d2941-b9b1-479f-ab8b-5905fd7f97af"
      },
      "98baa7e0-caf6-4f6e-8669-dbb2ddee233e": {
       "attrs": {
        "height": 0.4,
        "width": 0.8,
        "x": 0.1,
        "y": 0.5
       },
       "content": {
        "cell": "1e11b6c8-7455-4cf2-891f-04ec716bea67",
        "part": "whole"
       },
       "id": "98baa7e0-caf6-4f6e-8669-dbb2ddee233e"
      },
      "9d407cff-870c-4f97-85d0-3db1f4544b3a": {
       "attrs": {
        "height": 0.4,
        "width": 0.8,
        "x": 0.1,
        "y": 0.5
       },
       "content": {
        "cell": "6a3f4bab-af79-4a5b-a3cc-228fff561d65",
        "part": "whole"
       },
       "id": "9d407cff-870c-4f97-85d0-3db1f4544b3a"
      },
      "b9f907b1-015f-433e-8868-1cdb8b20a812": {
       "attrs": {
        "height": 0.4,
        "width": 0.8,
        "x": 0.1,
        "y": 0.5
       },
       "content": {
        "cell": "eddd60e6-4e84-448f-9acf-f519ae951990",
        "part": "whole"
       },
       "id": "b9f907b1-015f-433e-8868-1cdb8b20a812"
      },
      "bcef69e1-e906-4d75-a5bf-fb5384dd8b89": {
       "attrs": {
        "height": 0.4,
        "width": 0.8,
        "x": 0.1,
        "y": 0.5
       },
       "content": {
        "cell": "dc15b11f-0d18-47f4-82ab-7cef3e6de03a",
        "part": "whole"
       },
       "id": "bcef69e1-e906-4d75-a5bf-fb5384dd8b89"
      },
      "e81f7312-0d19-483d-a101-b1223815b7d2": {
       "attrs": {
        "height": 0.4,
        "width": 0.8,
        "x": 0.1,
        "y": 0.5
       },
       "content": {
        "cell": "32942df7-f50c-447e-a113-0261ed8814c4",
        "part": "whole"
       },
       "id": "e81f7312-0d19-483d-a101-b1223815b7d2"
      },
      "fecbcdd3-9d74-4901-898a-ceb44a4b0f1c": {
       "attrs": {
        "height": 0.4,
        "width": 0.8,
        "x": 0.1,
        "y": 0.5
       },
       "content": {
        "cell": "9cc61b72-a83c-4b8a-bdc5-e3760634e284",
        "part": "whole"
       },
       "id": "fecbcdd3-9d74-4901-898a-ceb44a4b0f1c"
      }
     }
    },
    "5f90afcb-364b-4640-b626-f79af22893cc": {
     "id": "5f90afcb-364b-4640-b626-f79af22893cc",
     "prev": null,
     "regions": {
      "a74d43ce-c84c-4c41-936c-3b81c7a0ee54": {
       "attrs": {
        "height": 0.4,
        "width": 0.8,
        "x": 0.1,
        "y": 0.5
       },
       "content": {
        "cell": "25d729d1-38ef-4930-a9e7-435a3bdb5fc9",
        "part": "whole"
       },
       "id": "a74d43ce-c84c-4c41-936c-3b81c7a0ee54"
      },
      "b8126ff3-850f-4055-8c58-cf2d56ed562b": {
       "attrs": {
        "height": 0.8,
        "width": 0.8,
        "x": 0.1,
        "y": 0.1
       },
       "content": {
        "cell": "caca2dc6-2f69-42ed-b6db-d13c72f29933",
        "part": "whole"
       },
       "id": "b8126ff3-850f-4055-8c58-cf2d56ed562b"
      }
     }
    }
   },
   "themes": {}
  }
 },
 "nbformat": 4,
 "nbformat_minor": 1
}
