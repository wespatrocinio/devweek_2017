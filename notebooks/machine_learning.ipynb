{
 "cells": [
  {
   "cell_type": "markdown",
   "metadata": {
    "nbpresent": {
     "id": "caca2dc6-2f69-42ed-b6db-d13c72f29933"
    },
    "slideshow": {
     "slide_type": "slide"
    }
   },
   "source": [
    "# Dev Week 2017 - Machine Learning & Recommender Systems"
   ]
  },
  {
   "cell_type": "markdown",
   "metadata": {
    "nbpresent": {
     "id": "25d729d1-38ef-4930-a9e7-435a3bdb5fc9"
    },
    "slideshow": {
     "slide_type": "subslide"
    }
   },
   "source": [
    "This talk will present to you some basic concepts about Machine Learning and how we develop projects using this concept and related technologies (IMHO)."
   ]
  },
  {
   "cell_type": "markdown",
   "metadata": {
    "nbpresent": {
     "id": "2dba1c71-180a-4e62-a40e-2cadef266261"
    },
    "slideshow": {
     "slide_type": "slide"
    }
   },
   "source": [
    "## Fundamentals of Machine Learning"
   ]
  },
  {
   "cell_type": "markdown",
   "metadata": {
    "nbpresent": {
     "id": "e6dd8389-90f4-4e7c-989b-aa5796c0e885"
    },
    "slideshow": {
     "slide_type": "subslide"
    }
   },
   "source": [
    "### Some important points that we must keep in mind for this talk\n",
    "\n",
    "In terms of concept size: \n",
    "- Data Science and AI concepts is bigger than Machine Learning;\n",
    "- Machine Learning concept is bigger than Deep Learning;"
   ]
  },
  {
   "cell_type": "markdown",
   "metadata": {
    "nbpresent": {
     "id": "dbed6e77-be35-450e-a157-d3fd376f5937"
    },
    "slideshow": {
     "slide_type": "subslide"
    }
   },
   "source": [
    "### What is learning?\n",
    "\n",
    "- Using past experiences to acquire expertise in execute a specific task;\n",
    "- Do you wanna an example? Pretend to grab a stone from ground near a street dog!"
   ]
  },
  {
   "cell_type": "markdown",
   "metadata": {
    "nbpresent": {
     "id": "5bfc7faa-4830-40d8-9f35-229d950dd5ce"
    },
    "slideshow": {
     "slide_type": "subslide"
    }
   },
   "source": [
    "### What is machine learning?\n",
    "\n",
    "- When you program a machine to learn how to execute a specific task;\n",
    "- The old but gold example of filtering Spams;"
   ]
  },
  {
   "cell_type": "markdown",
   "metadata": {
    "nbpresent": {
     "id": "4d02316c-8666-45d4-9717-ee765b9adf3c"
    },
    "slideshow": {
     "slide_type": "slide"
    }
   },
   "source": [
    "### Types of learning"
   ]
  },
  {
   "cell_type": "markdown",
   "metadata": {
    "nbpresent": {
     "id": "bd2bffc3-76e4-4613-beec-3dea17e112f0"
    },
    "slideshow": {
     "slide_type": "slide"
    }
   },
   "source": [
    "#### Supervised versus Unsupervised\n",
    "\n",
    "*Supervised:* when you learn from a targeted amount of data how to target another amount of data;\n",
    "\n",
    "*Unsupervised:* no targets;"
   ]
  },
  {
   "cell_type": "markdown",
   "metadata": {
    "nbpresent": {
     "id": "6c58ac20-c61f-4a29-9934-225a99dae36d"
    },
    "slideshow": {
     "slide_type": "slide"
    }
   },
   "source": [
    "### Classification, regression, multiclass, ranking and complex predictions"
   ]
  },
  {
   "cell_type": "markdown",
   "metadata": {
    "nbpresent": {
     "id": "b6b5b50b-0840-4284-b715-f90846e45285"
    },
    "slideshow": {
     "slide_type": "subslide"
    }
   },
   "source": [
    "*Simple (binary) classification:* you have two classes and a new sample must fit one of the two classes;\n",
    "\n",
    "*Regression:* you must to predict a continuous value for your new samples;"
   ]
  },
  {
   "cell_type": "markdown",
   "metadata": {
    "nbpresent": {
     "id": "144e4260-8aa5-439f-bee6-6167413f0c84"
    },
    "slideshow": {
     "slide_type": "subslide"
    }
   },
   "source": [
    "*Multi classification:* you have more than two classes;\n",
    "\n",
    "*Ranking:* You must order a set of instances by relevance;\n",
    "\n",
    "*Complex prediction:* As an example, cost sensitive classification;"
   ]
  },
  {
   "cell_type": "markdown",
   "metadata": {
    "nbpresent": {
     "id": "253021d1-3474-4fb0-ab2e-3b572886fb27"
    },
    "slideshow": {
     "slide_type": "slide"
    }
   },
   "source": [
    "#### Active versus Passive learners\n",
    "\n",
    "About how the learner interacts with the environment at training time. If actively performs interactions (A/B tests, questions, etc.) or wait for another actor to bring to learnship."
   ]
  },
  {
   "cell_type": "markdown",
   "metadata": {
    "nbpresent": {
     "id": "b8a172ca-127c-497d-ab42-36ab623dff72"
    },
    "slideshow": {
     "slide_type": "slide"
    }
   },
   "source": [
    "#### Online versus batch learning\n",
    "\n",
    "The frequency and/or lifecycle of when your learner incorporates the learnship;"
   ]
  },
  {
   "cell_type": "markdown",
   "metadata": {
    "nbpresent": {
     "id": "90e7f9fb-055f-4b13-ab23-51845c395e9a"
    },
    "slideshow": {
     "slide_type": "slide"
    }
   },
   "source": [
    "### Overfitting\n",
    "\n",
    "- When your predictor performance on the training set is excellent, yet its performance on the ground truth is very poor;\n",
    "- In other words, occurs when your hypothesis fits the training data \"too well\";"
   ]
  },
  {
   "cell_type": "markdown",
   "metadata": {
    "nbpresent": {
     "id": "3e21c87b-91a3-48d4-8687-0072a1142625"
    },
    "slideshow": {
     "slide_type": "slide"
    }
   },
   "source": [
    "### Bias\n",
    "\n",
    "- When you inducts your learn to a specific \"conclusion\";\n",
    "- Be CAREFUL with assumptions;"
   ]
  },
  {
   "cell_type": "markdown",
   "metadata": {
    "slideshow": {
     "slide_type": "slide"
    }
   },
   "source": [
    "> \"In the face of ambiguity, refuse the temptation to guess.\" (The Zen of Python, by Tim Peters)"
   ]
  },
  {
   "cell_type": "markdown",
   "metadata": {
    "nbpresent": {
     "id": "47f200f6-426c-4436-af23-572ab1cd4426"
    },
    "slideshow": {
     "slide_type": "slide"
    }
   },
   "source": [
    "### Algorithms types\n",
    "\n",
    "- Linear regression;\n",
    "- Support Vector Machines;\n",
    "- Decision trees;\n",
    "- Ensembles;\n",
    "- Neural networks;\n",
    "- etc..."
   ]
  },
  {
   "cell_type": "markdown",
   "metadata": {
    "nbpresent": {
     "id": "6a3f4bab-af79-4a5b-a3cc-228fff561d65"
    },
    "slideshow": {
     "slide_type": "slide"
    }
   },
   "source": [
    "## Connecting Machine Learning to a business goal"
   ]
  },
  {
   "cell_type": "markdown",
   "metadata": {
    "nbpresent": {
     "id": "32942df7-f50c-447e-a113-0261ed8814c4"
    },
    "slideshow": {
     "slide_type": "slide"
    }
   },
   "source": [
    "### Goals and metrics\n",
    "\n",
    "In successful Machine Learning projects, the intelligence being developed is strongly coupled to a very specific goal and measured by a very specific metric. So:\n",
    "\n",
    "- Always define the goal and metric before the development kick-off\n",
    "- Plan and architect your Machine Learning strategy over the goal and metric previously defined\n",
    "- Use goal and metric to measure the performance of your intelligence"
   ]
  },
  {
   "cell_type": "markdown",
   "metadata": {
    "nbpresent": {
     "id": "278420a1-2119-4576-aca0-62e88d5af191"
    },
    "slideshow": {
     "slide_type": "slide"
    }
   },
   "source": [
    "### Data domains\n",
    "\n",
    "- A data domain are the group of datasets that compose the available description of your context and its players and events;\n",
    "- For example, if you have an e-commerce, your data domain is all data **available** that describes your customers, the products being selled, financial transactions, etc.\n",
    "- Two different data domains can have distinct definitions of the same player or event. Wanna an example? CHURN!"
   ]
  },
  {
   "cell_type": "code",
   "execution_count": 1,
   "metadata": {
    "collapsed": false,
    "nbpresent": {
     "id": "511afe17-5cec-401c-97b0-32d566442767"
    },
    "slideshow": {
     "slide_type": "slide"
    }
   },
   "outputs": [],
   "source": [
    "from sklearn import datasets\n",
    "\n",
    "import pandas as pd"
   ]
  },
  {
   "cell_type": "code",
   "execution_count": 2,
   "metadata": {
    "collapsed": false,
    "nbpresent": {
     "id": "610c5861-ab23-4a13-9c1c-6a39d57a4372"
    },
    "slideshow": {
     "slide_type": "slide"
    }
   },
   "outputs": [
    {
     "data": {
      "text/html": [
       "<div>\n",
       "<table border=\"1\" class=\"dataframe\">\n",
       "  <thead>\n",
       "    <tr style=\"text-align: right;\">\n",
       "      <th></th>\n",
       "      <th>0</th>\n",
       "      <th>1</th>\n",
       "      <th>2</th>\n",
       "      <th>3</th>\n",
       "      <th>4</th>\n",
       "    </tr>\n",
       "  </thead>\n",
       "  <tbody>\n",
       "    <tr>\n",
       "      <th>mean radius</th>\n",
       "      <td>17.990000</td>\n",
       "      <td>20.570000</td>\n",
       "      <td>19.690000</td>\n",
       "      <td>11.420000</td>\n",
       "      <td>20.290000</td>\n",
       "    </tr>\n",
       "    <tr>\n",
       "      <th>mean texture</th>\n",
       "      <td>10.380000</td>\n",
       "      <td>17.770000</td>\n",
       "      <td>21.250000</td>\n",
       "      <td>20.380000</td>\n",
       "      <td>14.340000</td>\n",
       "    </tr>\n",
       "    <tr>\n",
       "      <th>mean perimeter</th>\n",
       "      <td>122.800000</td>\n",
       "      <td>132.900000</td>\n",
       "      <td>130.000000</td>\n",
       "      <td>77.580000</td>\n",
       "      <td>135.100000</td>\n",
       "    </tr>\n",
       "    <tr>\n",
       "      <th>mean area</th>\n",
       "      <td>1001.000000</td>\n",
       "      <td>1326.000000</td>\n",
       "      <td>1203.000000</td>\n",
       "      <td>386.100000</td>\n",
       "      <td>1297.000000</td>\n",
       "    </tr>\n",
       "    <tr>\n",
       "      <th>mean smoothness</th>\n",
       "      <td>0.118400</td>\n",
       "      <td>0.084740</td>\n",
       "      <td>0.109600</td>\n",
       "      <td>0.142500</td>\n",
       "      <td>0.100300</td>\n",
       "    </tr>\n",
       "    <tr>\n",
       "      <th>mean compactness</th>\n",
       "      <td>0.277600</td>\n",
       "      <td>0.078640</td>\n",
       "      <td>0.159900</td>\n",
       "      <td>0.283900</td>\n",
       "      <td>0.132800</td>\n",
       "    </tr>\n",
       "    <tr>\n",
       "      <th>mean concavity</th>\n",
       "      <td>0.300100</td>\n",
       "      <td>0.086900</td>\n",
       "      <td>0.197400</td>\n",
       "      <td>0.241400</td>\n",
       "      <td>0.198000</td>\n",
       "    </tr>\n",
       "    <tr>\n",
       "      <th>mean concave points</th>\n",
       "      <td>0.147100</td>\n",
       "      <td>0.070170</td>\n",
       "      <td>0.127900</td>\n",
       "      <td>0.105200</td>\n",
       "      <td>0.104300</td>\n",
       "    </tr>\n",
       "    <tr>\n",
       "      <th>mean symmetry</th>\n",
       "      <td>0.241900</td>\n",
       "      <td>0.181200</td>\n",
       "      <td>0.206900</td>\n",
       "      <td>0.259700</td>\n",
       "      <td>0.180900</td>\n",
       "    </tr>\n",
       "    <tr>\n",
       "      <th>mean fractal dimension</th>\n",
       "      <td>0.078710</td>\n",
       "      <td>0.056670</td>\n",
       "      <td>0.059990</td>\n",
       "      <td>0.097440</td>\n",
       "      <td>0.058830</td>\n",
       "    </tr>\n",
       "    <tr>\n",
       "      <th>radius error</th>\n",
       "      <td>1.095000</td>\n",
       "      <td>0.543500</td>\n",
       "      <td>0.745600</td>\n",
       "      <td>0.495600</td>\n",
       "      <td>0.757200</td>\n",
       "    </tr>\n",
       "    <tr>\n",
       "      <th>texture error</th>\n",
       "      <td>0.905300</td>\n",
       "      <td>0.733900</td>\n",
       "      <td>0.786900</td>\n",
       "      <td>1.156000</td>\n",
       "      <td>0.781300</td>\n",
       "    </tr>\n",
       "    <tr>\n",
       "      <th>perimeter error</th>\n",
       "      <td>8.589000</td>\n",
       "      <td>3.398000</td>\n",
       "      <td>4.585000</td>\n",
       "      <td>3.445000</td>\n",
       "      <td>5.438000</td>\n",
       "    </tr>\n",
       "    <tr>\n",
       "      <th>area error</th>\n",
       "      <td>153.400000</td>\n",
       "      <td>74.080000</td>\n",
       "      <td>94.030000</td>\n",
       "      <td>27.230000</td>\n",
       "      <td>94.440000</td>\n",
       "    </tr>\n",
       "    <tr>\n",
       "      <th>smoothness error</th>\n",
       "      <td>0.006399</td>\n",
       "      <td>0.005225</td>\n",
       "      <td>0.006150</td>\n",
       "      <td>0.009110</td>\n",
       "      <td>0.011490</td>\n",
       "    </tr>\n",
       "    <tr>\n",
       "      <th>compactness error</th>\n",
       "      <td>0.049040</td>\n",
       "      <td>0.013080</td>\n",
       "      <td>0.040060</td>\n",
       "      <td>0.074580</td>\n",
       "      <td>0.024610</td>\n",
       "    </tr>\n",
       "    <tr>\n",
       "      <th>concavity error</th>\n",
       "      <td>0.053730</td>\n",
       "      <td>0.018600</td>\n",
       "      <td>0.038320</td>\n",
       "      <td>0.056610</td>\n",
       "      <td>0.056880</td>\n",
       "    </tr>\n",
       "    <tr>\n",
       "      <th>concave points error</th>\n",
       "      <td>0.015870</td>\n",
       "      <td>0.013400</td>\n",
       "      <td>0.020580</td>\n",
       "      <td>0.018670</td>\n",
       "      <td>0.018850</td>\n",
       "    </tr>\n",
       "    <tr>\n",
       "      <th>symmetry error</th>\n",
       "      <td>0.030030</td>\n",
       "      <td>0.013890</td>\n",
       "      <td>0.022500</td>\n",
       "      <td>0.059630</td>\n",
       "      <td>0.017560</td>\n",
       "    </tr>\n",
       "    <tr>\n",
       "      <th>fractal dimension error</th>\n",
       "      <td>0.006193</td>\n",
       "      <td>0.003532</td>\n",
       "      <td>0.004571</td>\n",
       "      <td>0.009208</td>\n",
       "      <td>0.005115</td>\n",
       "    </tr>\n",
       "    <tr>\n",
       "      <th>worst radius</th>\n",
       "      <td>25.380000</td>\n",
       "      <td>24.990000</td>\n",
       "      <td>23.570000</td>\n",
       "      <td>14.910000</td>\n",
       "      <td>22.540000</td>\n",
       "    </tr>\n",
       "    <tr>\n",
       "      <th>worst texture</th>\n",
       "      <td>17.330000</td>\n",
       "      <td>23.410000</td>\n",
       "      <td>25.530000</td>\n",
       "      <td>26.500000</td>\n",
       "      <td>16.670000</td>\n",
       "    </tr>\n",
       "    <tr>\n",
       "      <th>worst perimeter</th>\n",
       "      <td>184.600000</td>\n",
       "      <td>158.800000</td>\n",
       "      <td>152.500000</td>\n",
       "      <td>98.870000</td>\n",
       "      <td>152.200000</td>\n",
       "    </tr>\n",
       "    <tr>\n",
       "      <th>worst area</th>\n",
       "      <td>2019.000000</td>\n",
       "      <td>1956.000000</td>\n",
       "      <td>1709.000000</td>\n",
       "      <td>567.700000</td>\n",
       "      <td>1575.000000</td>\n",
       "    </tr>\n",
       "    <tr>\n",
       "      <th>worst smoothness</th>\n",
       "      <td>0.162200</td>\n",
       "      <td>0.123800</td>\n",
       "      <td>0.144400</td>\n",
       "      <td>0.209800</td>\n",
       "      <td>0.137400</td>\n",
       "    </tr>\n",
       "    <tr>\n",
       "      <th>worst compactness</th>\n",
       "      <td>0.665600</td>\n",
       "      <td>0.186600</td>\n",
       "      <td>0.424500</td>\n",
       "      <td>0.866300</td>\n",
       "      <td>0.205000</td>\n",
       "    </tr>\n",
       "    <tr>\n",
       "      <th>worst concavity</th>\n",
       "      <td>0.711900</td>\n",
       "      <td>0.241600</td>\n",
       "      <td>0.450400</td>\n",
       "      <td>0.686900</td>\n",
       "      <td>0.400000</td>\n",
       "    </tr>\n",
       "    <tr>\n",
       "      <th>worst concave points</th>\n",
       "      <td>0.265400</td>\n",
       "      <td>0.186000</td>\n",
       "      <td>0.243000</td>\n",
       "      <td>0.257500</td>\n",
       "      <td>0.162500</td>\n",
       "    </tr>\n",
       "    <tr>\n",
       "      <th>worst symmetry</th>\n",
       "      <td>0.460100</td>\n",
       "      <td>0.275000</td>\n",
       "      <td>0.361300</td>\n",
       "      <td>0.663800</td>\n",
       "      <td>0.236400</td>\n",
       "    </tr>\n",
       "    <tr>\n",
       "      <th>worst fractal dimension</th>\n",
       "      <td>0.118900</td>\n",
       "      <td>0.089020</td>\n",
       "      <td>0.087580</td>\n",
       "      <td>0.173000</td>\n",
       "      <td>0.076780</td>\n",
       "    </tr>\n",
       "  </tbody>\n",
       "</table>\n",
       "</div>"
      ],
      "text/plain": [
       "                                   0            1            2           3  \\\n",
       "mean radius                17.990000    20.570000    19.690000   11.420000   \n",
       "mean texture               10.380000    17.770000    21.250000   20.380000   \n",
       "mean perimeter            122.800000   132.900000   130.000000   77.580000   \n",
       "mean area                1001.000000  1326.000000  1203.000000  386.100000   \n",
       "mean smoothness             0.118400     0.084740     0.109600    0.142500   \n",
       "mean compactness            0.277600     0.078640     0.159900    0.283900   \n",
       "mean concavity              0.300100     0.086900     0.197400    0.241400   \n",
       "mean concave points         0.147100     0.070170     0.127900    0.105200   \n",
       "mean symmetry               0.241900     0.181200     0.206900    0.259700   \n",
       "mean fractal dimension      0.078710     0.056670     0.059990    0.097440   \n",
       "radius error                1.095000     0.543500     0.745600    0.495600   \n",
       "texture error               0.905300     0.733900     0.786900    1.156000   \n",
       "perimeter error             8.589000     3.398000     4.585000    3.445000   \n",
       "area error                153.400000    74.080000    94.030000   27.230000   \n",
       "smoothness error            0.006399     0.005225     0.006150    0.009110   \n",
       "compactness error           0.049040     0.013080     0.040060    0.074580   \n",
       "concavity error             0.053730     0.018600     0.038320    0.056610   \n",
       "concave points error        0.015870     0.013400     0.020580    0.018670   \n",
       "symmetry error              0.030030     0.013890     0.022500    0.059630   \n",
       "fractal dimension error     0.006193     0.003532     0.004571    0.009208   \n",
       "worst radius               25.380000    24.990000    23.570000   14.910000   \n",
       "worst texture              17.330000    23.410000    25.530000   26.500000   \n",
       "worst perimeter           184.600000   158.800000   152.500000   98.870000   \n",
       "worst area               2019.000000  1956.000000  1709.000000  567.700000   \n",
       "worst smoothness            0.162200     0.123800     0.144400    0.209800   \n",
       "worst compactness           0.665600     0.186600     0.424500    0.866300   \n",
       "worst concavity             0.711900     0.241600     0.450400    0.686900   \n",
       "worst concave points        0.265400     0.186000     0.243000    0.257500   \n",
       "worst symmetry              0.460100     0.275000     0.361300    0.663800   \n",
       "worst fractal dimension     0.118900     0.089020     0.087580    0.173000   \n",
       "\n",
       "                                   4  \n",
       "mean radius                20.290000  \n",
       "mean texture               14.340000  \n",
       "mean perimeter            135.100000  \n",
       "mean area                1297.000000  \n",
       "mean smoothness             0.100300  \n",
       "mean compactness            0.132800  \n",
       "mean concavity              0.198000  \n",
       "mean concave points         0.104300  \n",
       "mean symmetry               0.180900  \n",
       "mean fractal dimension      0.058830  \n",
       "radius error                0.757200  \n",
       "texture error               0.781300  \n",
       "perimeter error             5.438000  \n",
       "area error                 94.440000  \n",
       "smoothness error            0.011490  \n",
       "compactness error           0.024610  \n",
       "concavity error             0.056880  \n",
       "concave points error        0.018850  \n",
       "symmetry error              0.017560  \n",
       "fractal dimension error     0.005115  \n",
       "worst radius               22.540000  \n",
       "worst texture              16.670000  \n",
       "worst perimeter           152.200000  \n",
       "worst area               1575.000000  \n",
       "worst smoothness            0.137400  \n",
       "worst compactness           0.205000  \n",
       "worst concavity             0.400000  \n",
       "worst concave points        0.162500  \n",
       "worst symmetry              0.236400  \n",
       "worst fractal dimension     0.076780  "
      ]
     },
     "execution_count": 2,
     "metadata": {},
     "output_type": "execute_result"
    }
   ],
   "source": [
    "bc = datasets.load_breast_cancer()\n",
    "features = pd.DataFrame(bc.data, columns=bc.feature_names)\n",
    "targets = bc.target\n",
    "\n",
    "features.head().transpose()"
   ]
  },
  {
   "cell_type": "code",
   "execution_count": 3,
   "metadata": {
    "collapsed": false,
    "nbpresent": {
     "id": "2c9736ea-09f7-4eb1-a9a8-541b17bed08d"
    },
    "slideshow": {
     "slide_type": "slide"
    }
   },
   "outputs": [
    {
     "data": {
      "text/html": [
       "<div>\n",
       "<table border=\"1\" class=\"dataframe\">\n",
       "  <thead>\n",
       "    <tr style=\"text-align: right;\">\n",
       "      <th></th>\n",
       "      <th>count</th>\n",
       "      <th>mean</th>\n",
       "      <th>std</th>\n",
       "      <th>min</th>\n",
       "      <th>25%</th>\n",
       "      <th>50%</th>\n",
       "      <th>75%</th>\n",
       "      <th>max</th>\n",
       "    </tr>\n",
       "  </thead>\n",
       "  <tbody>\n",
       "    <tr>\n",
       "      <th>mean radius</th>\n",
       "      <td>569.0</td>\n",
       "      <td>14.127292</td>\n",
       "      <td>3.524049</td>\n",
       "      <td>6.981000</td>\n",
       "      <td>11.700000</td>\n",
       "      <td>13.370000</td>\n",
       "      <td>15.780000</td>\n",
       "      <td>28.11000</td>\n",
       "    </tr>\n",
       "    <tr>\n",
       "      <th>mean texture</th>\n",
       "      <td>569.0</td>\n",
       "      <td>19.289649</td>\n",
       "      <td>4.301036</td>\n",
       "      <td>9.710000</td>\n",
       "      <td>16.170000</td>\n",
       "      <td>18.840000</td>\n",
       "      <td>21.800000</td>\n",
       "      <td>39.28000</td>\n",
       "    </tr>\n",
       "    <tr>\n",
       "      <th>mean perimeter</th>\n",
       "      <td>569.0</td>\n",
       "      <td>91.969033</td>\n",
       "      <td>24.298981</td>\n",
       "      <td>43.790000</td>\n",
       "      <td>75.170000</td>\n",
       "      <td>86.240000</td>\n",
       "      <td>104.100000</td>\n",
       "      <td>188.50000</td>\n",
       "    </tr>\n",
       "    <tr>\n",
       "      <th>mean area</th>\n",
       "      <td>569.0</td>\n",
       "      <td>654.889104</td>\n",
       "      <td>351.914129</td>\n",
       "      <td>143.500000</td>\n",
       "      <td>420.300000</td>\n",
       "      <td>551.100000</td>\n",
       "      <td>782.700000</td>\n",
       "      <td>2501.00000</td>\n",
       "    </tr>\n",
       "    <tr>\n",
       "      <th>mean smoothness</th>\n",
       "      <td>569.0</td>\n",
       "      <td>0.096360</td>\n",
       "      <td>0.014064</td>\n",
       "      <td>0.052630</td>\n",
       "      <td>0.086370</td>\n",
       "      <td>0.095870</td>\n",
       "      <td>0.105300</td>\n",
       "      <td>0.16340</td>\n",
       "    </tr>\n",
       "    <tr>\n",
       "      <th>mean compactness</th>\n",
       "      <td>569.0</td>\n",
       "      <td>0.104341</td>\n",
       "      <td>0.052813</td>\n",
       "      <td>0.019380</td>\n",
       "      <td>0.064920</td>\n",
       "      <td>0.092630</td>\n",
       "      <td>0.130400</td>\n",
       "      <td>0.34540</td>\n",
       "    </tr>\n",
       "    <tr>\n",
       "      <th>mean concavity</th>\n",
       "      <td>569.0</td>\n",
       "      <td>0.088799</td>\n",
       "      <td>0.079720</td>\n",
       "      <td>0.000000</td>\n",
       "      <td>0.029560</td>\n",
       "      <td>0.061540</td>\n",
       "      <td>0.130700</td>\n",
       "      <td>0.42680</td>\n",
       "    </tr>\n",
       "    <tr>\n",
       "      <th>mean concave points</th>\n",
       "      <td>569.0</td>\n",
       "      <td>0.048919</td>\n",
       "      <td>0.038803</td>\n",
       "      <td>0.000000</td>\n",
       "      <td>0.020310</td>\n",
       "      <td>0.033500</td>\n",
       "      <td>0.074000</td>\n",
       "      <td>0.20120</td>\n",
       "    </tr>\n",
       "    <tr>\n",
       "      <th>mean symmetry</th>\n",
       "      <td>569.0</td>\n",
       "      <td>0.181162</td>\n",
       "      <td>0.027414</td>\n",
       "      <td>0.106000</td>\n",
       "      <td>0.161900</td>\n",
       "      <td>0.179200</td>\n",
       "      <td>0.195700</td>\n",
       "      <td>0.30400</td>\n",
       "    </tr>\n",
       "    <tr>\n",
       "      <th>mean fractal dimension</th>\n",
       "      <td>569.0</td>\n",
       "      <td>0.062798</td>\n",
       "      <td>0.007060</td>\n",
       "      <td>0.049960</td>\n",
       "      <td>0.057700</td>\n",
       "      <td>0.061540</td>\n",
       "      <td>0.066120</td>\n",
       "      <td>0.09744</td>\n",
       "    </tr>\n",
       "    <tr>\n",
       "      <th>radius error</th>\n",
       "      <td>569.0</td>\n",
       "      <td>0.405172</td>\n",
       "      <td>0.277313</td>\n",
       "      <td>0.111500</td>\n",
       "      <td>0.232400</td>\n",
       "      <td>0.324200</td>\n",
       "      <td>0.478900</td>\n",
       "      <td>2.87300</td>\n",
       "    </tr>\n",
       "    <tr>\n",
       "      <th>texture error</th>\n",
       "      <td>569.0</td>\n",
       "      <td>1.216853</td>\n",
       "      <td>0.551648</td>\n",
       "      <td>0.360200</td>\n",
       "      <td>0.833900</td>\n",
       "      <td>1.108000</td>\n",
       "      <td>1.474000</td>\n",
       "      <td>4.88500</td>\n",
       "    </tr>\n",
       "    <tr>\n",
       "      <th>perimeter error</th>\n",
       "      <td>569.0</td>\n",
       "      <td>2.866059</td>\n",
       "      <td>2.021855</td>\n",
       "      <td>0.757000</td>\n",
       "      <td>1.606000</td>\n",
       "      <td>2.287000</td>\n",
       "      <td>3.357000</td>\n",
       "      <td>21.98000</td>\n",
       "    </tr>\n",
       "    <tr>\n",
       "      <th>area error</th>\n",
       "      <td>569.0</td>\n",
       "      <td>40.337079</td>\n",
       "      <td>45.491006</td>\n",
       "      <td>6.802000</td>\n",
       "      <td>17.850000</td>\n",
       "      <td>24.530000</td>\n",
       "      <td>45.190000</td>\n",
       "      <td>542.20000</td>\n",
       "    </tr>\n",
       "    <tr>\n",
       "      <th>smoothness error</th>\n",
       "      <td>569.0</td>\n",
       "      <td>0.007041</td>\n",
       "      <td>0.003003</td>\n",
       "      <td>0.001713</td>\n",
       "      <td>0.005169</td>\n",
       "      <td>0.006380</td>\n",
       "      <td>0.008146</td>\n",
       "      <td>0.03113</td>\n",
       "    </tr>\n",
       "    <tr>\n",
       "      <th>compactness error</th>\n",
       "      <td>569.0</td>\n",
       "      <td>0.025478</td>\n",
       "      <td>0.017908</td>\n",
       "      <td>0.002252</td>\n",
       "      <td>0.013080</td>\n",
       "      <td>0.020450</td>\n",
       "      <td>0.032450</td>\n",
       "      <td>0.13540</td>\n",
       "    </tr>\n",
       "    <tr>\n",
       "      <th>concavity error</th>\n",
       "      <td>569.0</td>\n",
       "      <td>0.031894</td>\n",
       "      <td>0.030186</td>\n",
       "      <td>0.000000</td>\n",
       "      <td>0.015090</td>\n",
       "      <td>0.025890</td>\n",
       "      <td>0.042050</td>\n",
       "      <td>0.39600</td>\n",
       "    </tr>\n",
       "    <tr>\n",
       "      <th>concave points error</th>\n",
       "      <td>569.0</td>\n",
       "      <td>0.011796</td>\n",
       "      <td>0.006170</td>\n",
       "      <td>0.000000</td>\n",
       "      <td>0.007638</td>\n",
       "      <td>0.010930</td>\n",
       "      <td>0.014710</td>\n",
       "      <td>0.05279</td>\n",
       "    </tr>\n",
       "    <tr>\n",
       "      <th>symmetry error</th>\n",
       "      <td>569.0</td>\n",
       "      <td>0.020542</td>\n",
       "      <td>0.008266</td>\n",
       "      <td>0.007882</td>\n",
       "      <td>0.015160</td>\n",
       "      <td>0.018730</td>\n",
       "      <td>0.023480</td>\n",
       "      <td>0.07895</td>\n",
       "    </tr>\n",
       "    <tr>\n",
       "      <th>fractal dimension error</th>\n",
       "      <td>569.0</td>\n",
       "      <td>0.003795</td>\n",
       "      <td>0.002646</td>\n",
       "      <td>0.000895</td>\n",
       "      <td>0.002248</td>\n",
       "      <td>0.003187</td>\n",
       "      <td>0.004558</td>\n",
       "      <td>0.02984</td>\n",
       "    </tr>\n",
       "    <tr>\n",
       "      <th>worst radius</th>\n",
       "      <td>569.0</td>\n",
       "      <td>16.269190</td>\n",
       "      <td>4.833242</td>\n",
       "      <td>7.930000</td>\n",
       "      <td>13.010000</td>\n",
       "      <td>14.970000</td>\n",
       "      <td>18.790000</td>\n",
       "      <td>36.04000</td>\n",
       "    </tr>\n",
       "    <tr>\n",
       "      <th>worst texture</th>\n",
       "      <td>569.0</td>\n",
       "      <td>25.677223</td>\n",
       "      <td>6.146258</td>\n",
       "      <td>12.020000</td>\n",
       "      <td>21.080000</td>\n",
       "      <td>25.410000</td>\n",
       "      <td>29.720000</td>\n",
       "      <td>49.54000</td>\n",
       "    </tr>\n",
       "    <tr>\n",
       "      <th>worst perimeter</th>\n",
       "      <td>569.0</td>\n",
       "      <td>107.261213</td>\n",
       "      <td>33.602542</td>\n",
       "      <td>50.410000</td>\n",
       "      <td>84.110000</td>\n",
       "      <td>97.660000</td>\n",
       "      <td>125.400000</td>\n",
       "      <td>251.20000</td>\n",
       "    </tr>\n",
       "    <tr>\n",
       "      <th>worst area</th>\n",
       "      <td>569.0</td>\n",
       "      <td>880.583128</td>\n",
       "      <td>569.356993</td>\n",
       "      <td>185.200000</td>\n",
       "      <td>515.300000</td>\n",
       "      <td>686.500000</td>\n",
       "      <td>1084.000000</td>\n",
       "      <td>4254.00000</td>\n",
       "    </tr>\n",
       "    <tr>\n",
       "      <th>worst smoothness</th>\n",
       "      <td>569.0</td>\n",
       "      <td>0.132369</td>\n",
       "      <td>0.022832</td>\n",
       "      <td>0.071170</td>\n",
       "      <td>0.116600</td>\n",
       "      <td>0.131300</td>\n",
       "      <td>0.146000</td>\n",
       "      <td>0.22260</td>\n",
       "    </tr>\n",
       "    <tr>\n",
       "      <th>worst compactness</th>\n",
       "      <td>569.0</td>\n",
       "      <td>0.254265</td>\n",
       "      <td>0.157336</td>\n",
       "      <td>0.027290</td>\n",
       "      <td>0.147200</td>\n",
       "      <td>0.211900</td>\n",
       "      <td>0.339100</td>\n",
       "      <td>1.05800</td>\n",
       "    </tr>\n",
       "    <tr>\n",
       "      <th>worst concavity</th>\n",
       "      <td>569.0</td>\n",
       "      <td>0.272188</td>\n",
       "      <td>0.208624</td>\n",
       "      <td>0.000000</td>\n",
       "      <td>0.114500</td>\n",
       "      <td>0.226700</td>\n",
       "      <td>0.382900</td>\n",
       "      <td>1.25200</td>\n",
       "    </tr>\n",
       "    <tr>\n",
       "      <th>worst concave points</th>\n",
       "      <td>569.0</td>\n",
       "      <td>0.114606</td>\n",
       "      <td>0.065732</td>\n",
       "      <td>0.000000</td>\n",
       "      <td>0.064930</td>\n",
       "      <td>0.099930</td>\n",
       "      <td>0.161400</td>\n",
       "      <td>0.29100</td>\n",
       "    </tr>\n",
       "    <tr>\n",
       "      <th>worst symmetry</th>\n",
       "      <td>569.0</td>\n",
       "      <td>0.290076</td>\n",
       "      <td>0.061867</td>\n",
       "      <td>0.156500</td>\n",
       "      <td>0.250400</td>\n",
       "      <td>0.282200</td>\n",
       "      <td>0.317900</td>\n",
       "      <td>0.66380</td>\n",
       "    </tr>\n",
       "    <tr>\n",
       "      <th>worst fractal dimension</th>\n",
       "      <td>569.0</td>\n",
       "      <td>0.083946</td>\n",
       "      <td>0.018061</td>\n",
       "      <td>0.055040</td>\n",
       "      <td>0.071460</td>\n",
       "      <td>0.080040</td>\n",
       "      <td>0.092080</td>\n",
       "      <td>0.20750</td>\n",
       "    </tr>\n",
       "  </tbody>\n",
       "</table>\n",
       "</div>"
      ],
      "text/plain": [
       "                         count        mean         std         min  \\\n",
       "mean radius              569.0   14.127292    3.524049    6.981000   \n",
       "mean texture             569.0   19.289649    4.301036    9.710000   \n",
       "mean perimeter           569.0   91.969033   24.298981   43.790000   \n",
       "mean area                569.0  654.889104  351.914129  143.500000   \n",
       "mean smoothness          569.0    0.096360    0.014064    0.052630   \n",
       "mean compactness         569.0    0.104341    0.052813    0.019380   \n",
       "mean concavity           569.0    0.088799    0.079720    0.000000   \n",
       "mean concave points      569.0    0.048919    0.038803    0.000000   \n",
       "mean symmetry            569.0    0.181162    0.027414    0.106000   \n",
       "mean fractal dimension   569.0    0.062798    0.007060    0.049960   \n",
       "radius error             569.0    0.405172    0.277313    0.111500   \n",
       "texture error            569.0    1.216853    0.551648    0.360200   \n",
       "perimeter error          569.0    2.866059    2.021855    0.757000   \n",
       "area error               569.0   40.337079   45.491006    6.802000   \n",
       "smoothness error         569.0    0.007041    0.003003    0.001713   \n",
       "compactness error        569.0    0.025478    0.017908    0.002252   \n",
       "concavity error          569.0    0.031894    0.030186    0.000000   \n",
       "concave points error     569.0    0.011796    0.006170    0.000000   \n",
       "symmetry error           569.0    0.020542    0.008266    0.007882   \n",
       "fractal dimension error  569.0    0.003795    0.002646    0.000895   \n",
       "worst radius             569.0   16.269190    4.833242    7.930000   \n",
       "worst texture            569.0   25.677223    6.146258   12.020000   \n",
       "worst perimeter          569.0  107.261213   33.602542   50.410000   \n",
       "worst area               569.0  880.583128  569.356993  185.200000   \n",
       "worst smoothness         569.0    0.132369    0.022832    0.071170   \n",
       "worst compactness        569.0    0.254265    0.157336    0.027290   \n",
       "worst concavity          569.0    0.272188    0.208624    0.000000   \n",
       "worst concave points     569.0    0.114606    0.065732    0.000000   \n",
       "worst symmetry           569.0    0.290076    0.061867    0.156500   \n",
       "worst fractal dimension  569.0    0.083946    0.018061    0.055040   \n",
       "\n",
       "                                25%         50%          75%         max  \n",
       "mean radius               11.700000   13.370000    15.780000    28.11000  \n",
       "mean texture              16.170000   18.840000    21.800000    39.28000  \n",
       "mean perimeter            75.170000   86.240000   104.100000   188.50000  \n",
       "mean area                420.300000  551.100000   782.700000  2501.00000  \n",
       "mean smoothness            0.086370    0.095870     0.105300     0.16340  \n",
       "mean compactness           0.064920    0.092630     0.130400     0.34540  \n",
       "mean concavity             0.029560    0.061540     0.130700     0.42680  \n",
       "mean concave points        0.020310    0.033500     0.074000     0.20120  \n",
       "mean symmetry              0.161900    0.179200     0.195700     0.30400  \n",
       "mean fractal dimension     0.057700    0.061540     0.066120     0.09744  \n",
       "radius error               0.232400    0.324200     0.478900     2.87300  \n",
       "texture error              0.833900    1.108000     1.474000     4.88500  \n",
       "perimeter error            1.606000    2.287000     3.357000    21.98000  \n",
       "area error                17.850000   24.530000    45.190000   542.20000  \n",
       "smoothness error           0.005169    0.006380     0.008146     0.03113  \n",
       "compactness error          0.013080    0.020450     0.032450     0.13540  \n",
       "concavity error            0.015090    0.025890     0.042050     0.39600  \n",
       "concave points error       0.007638    0.010930     0.014710     0.05279  \n",
       "symmetry error             0.015160    0.018730     0.023480     0.07895  \n",
       "fractal dimension error    0.002248    0.003187     0.004558     0.02984  \n",
       "worst radius              13.010000   14.970000    18.790000    36.04000  \n",
       "worst texture             21.080000   25.410000    29.720000    49.54000  \n",
       "worst perimeter           84.110000   97.660000   125.400000   251.20000  \n",
       "worst area               515.300000  686.500000  1084.000000  4254.00000  \n",
       "worst smoothness           0.116600    0.131300     0.146000     0.22260  \n",
       "worst compactness          0.147200    0.211900     0.339100     1.05800  \n",
       "worst concavity            0.114500    0.226700     0.382900     1.25200  \n",
       "worst concave points       0.064930    0.099930     0.161400     0.29100  \n",
       "worst symmetry             0.250400    0.282200     0.317900     0.66380  \n",
       "worst fractal dimension    0.071460    0.080040     0.092080     0.20750  "
      ]
     },
     "execution_count": 3,
     "metadata": {},
     "output_type": "execute_result"
    }
   ],
   "source": [
    "features.describe().transpose()"
   ]
  },
  {
   "cell_type": "markdown",
   "metadata": {
    "nbpresent": {
     "id": "eddd60e6-4e84-448f-9acf-f519ae951990"
    },
    "slideshow": {
     "slide_type": "slide"
    }
   },
   "source": [
    "### Offline evaluation framework"
   ]
  },
  {
   "cell_type": "markdown",
   "metadata": {
    "nbpresent": {
     "id": "021308cc-3a12-435e-801b-dc45cb3d636c"
    },
    "slideshow": {
     "slide_type": "subslide"
    }
   },
   "source": [
    "The offline evaluation framework is the **ruler** that you will use to measure the performance of your model based on your business goals.\n",
    "\n",
    "For example, suppose you are the manager of a Breast Cancer campaign and you should chose between a more greedy approach or a highly assertive one based on the cost of the approach. The error costs of your campaign are:\n",
    "\n",
    "- A False Negative (your model does not identify a case which is Breast Cancer) is US\\$ 15000,00 to take a late treatment;\n",
    "- A False Positive (your model classify as Cancer a case that actually is not) is US\\$ 3000,00\n",
    "\n",
    "- A True Positive (your model classifiy as Cancer a real case of Cancer) saves US\\$ 7000,00 from government\n",
    "\n",
    "- A True Negative (your model classify as not Cancer a real case of not Cancer) doesn't impact the costs"
   ]
  },
  {
   "cell_type": "code",
   "execution_count": 4,
   "metadata": {
    "collapsed": true,
    "nbpresent": {
     "id": "7c371fc1-f312-4ff5-a597-99d664639b04"
    },
    "slideshow": {
     "slide_type": "subslide"
    }
   },
   "outputs": [],
   "source": [
    "FN_COST = 15000\n",
    "FP_COST = 3000\n",
    "TP_COST = -7000\n",
    "TN_COST = 0\n",
    "\n",
    "def operation_cost(num_fn, num_fp, num_tp, num_tn):\n",
    "    return (num_fn * FN_COST) + (num_fp * FP_COST) + (num_tp * TP_COST) + (num_tn * TN_COST)"
   ]
  },
  {
   "cell_type": "markdown",
   "metadata": {
    "nbpresent": {
     "id": "9cc61b72-a83c-4b8a-bdc5-e3760634e284"
    },
    "slideshow": {
     "slide_type": "slide"
    }
   },
   "source": [
    "## Feature engineering & data quality"
   ]
  },
  {
   "cell_type": "markdown",
   "metadata": {},
   "source": [
    "### Features types\n",
    "\n",
    "- Numeric value (int or float)\n",
    "    - Normalization\n",
    "- Categorical values (classes not necessarially exclusive)\n",
    "    - Dummy variables, feature hashing\n",
    "- Boolean values (true of false, 1 or 0)"
   ]
  },
  {
   "cell_type": "markdown",
   "metadata": {},
   "source": [
    "### Missing values\n",
    "\n",
    "You must to make a choice about the missing (`NULL`) values within your dataset:\n",
    "- Drop them\n",
    "- Fill them with some standard value\n",
    "    - Zero\n",
    "    - Average\n",
    "    - Median\n",
    "    - etc.\n",
    "- Be careful with BIAS, _mtf_!"
   ]
  },
  {
   "cell_type": "code",
   "execution_count": 6,
   "metadata": {
    "collapsed": false
   },
   "outputs": [],
   "source": [
    "df_missing = features.sample(frac=0.1)\n",
    "df_missing.fillna(0.0)\n",
    "_ = df_missing.dropna()"
   ]
  },
  {
   "cell_type": "markdown",
   "metadata": {},
   "source": [
    "### Classes balancing\n",
    "- Sometimes your dataset has a huge proportion between positive and negative classes\n",
    "- This kind of situation screws up with the algorithm learning because it is very hard to detect the behavior / characteristics of the minor class\n",
    "- There are some techniques to rebalance the data **for the training step**\n",
    "    - SMOTE is a good one to get started"
   ]
  },
  {
   "cell_type": "code",
   "execution_count": 7,
   "metadata": {
    "collapsed": false
   },
   "outputs": [
    {
     "name": "stdout",
     "output_type": "stream",
     "text": [
      "Number of POSITIVE cases: 357\n",
      "Number of NEGATIVE cases: 212\n"
     ]
    }
   ],
   "source": [
    "print \"Number of POSITIVE cases: {}\".format(targets[targets == 1].shape[0])\n",
    "print \"Number of NEGATIVE cases: {}\".format(targets[targets == 0].shape[0])"
   ]
  },
  {
   "cell_type": "markdown",
   "metadata": {
    "nbpresent": {
     "id": "5931caa2-6561-492a-af49-e5e34a7d41c6"
    }
   },
   "source": [
    "### Dimensionality analysis\n",
    "\n",
    "- In datasets with so many features you will face some performance issues: more data available, more data to process\n",
    "- There are some techniques to reduce the dimensionality of your dataset without exclude by relevance or major losses of information\n",
    "    - Get started with PCA"
   ]
  },
  {
   "cell_type": "code",
   "execution_count": 8,
   "metadata": {
    "collapsed": true,
    "nbpresent": {
     "id": "94c840d8-8739-442d-aae3-9ed31b348f17"
    }
   },
   "outputs": [],
   "source": [
    "from sklearn.decomposition import PCA"
   ]
  },
  {
   "cell_type": "markdown",
   "metadata": {},
   "source": [
    "Number of features available in our dataset"
   ]
  },
  {
   "cell_type": "code",
   "execution_count": 9,
   "metadata": {
    "collapsed": false
   },
   "outputs": [
    {
     "data": {
      "text/plain": [
       "(569, 30)"
      ]
     },
     "execution_count": 9,
     "metadata": {},
     "output_type": "execute_result"
    }
   ],
   "source": [
    "features.shape"
   ]
  },
  {
   "cell_type": "markdown",
   "metadata": {},
   "source": [
    "Reducing to a bi-dimensional vector space:"
   ]
  },
  {
   "cell_type": "code",
   "execution_count": 10,
   "metadata": {
    "collapsed": false,
    "nbpresent": {
     "id": "a7e51e5b-4cab-47a3-aaf0-ed51201c35e0"
    }
   },
   "outputs": [
    {
     "data": {
      "text/plain": [
       "PCA(copy=True, n_components=2, whiten=False)"
      ]
     },
     "execution_count": 10,
     "metadata": {},
     "output_type": "execute_result"
    }
   ],
   "source": [
    "pca = PCA(n_components=2)\n",
    "pca.fit(features)"
   ]
  },
  {
   "cell_type": "markdown",
   "metadata": {},
   "source": [
    "Amount of variance explained by first 2 components"
   ]
  },
  {
   "cell_type": "code",
   "execution_count": 13,
   "metadata": {
    "collapsed": false,
    "nbpresent": {
     "id": "fc0de363-3ba0-4404-96e2-57c963ff340d"
    }
   },
   "outputs": [
    {
     "name": "stdout",
     "output_type": "stream",
     "text": [
      "[ 0.98204467  0.01617649]\n"
     ]
    }
   ],
   "source": [
    "print str(pca.explained_variance_ratio_)\n",
    "X_r = pca.transform(features)"
   ]
  },
  {
   "cell_type": "code",
   "execution_count": 14,
   "metadata": {
    "collapsed": true,
    "slideshow": {
     "slide_type": "slide"
    }
   },
   "outputs": [],
   "source": [
    "%matplotlib inline\n",
    "\n",
    "import matplotlib.pyplot as plt\n",
    "import numpy as np"
   ]
  },
  {
   "cell_type": "code",
   "execution_count": 15,
   "metadata": {
    "collapsed": false
   },
   "outputs": [
    {
     "data": {
      "image/png": "[encoded data removed]",
      "text/plain": [
       "<matplotlib.figure.Figure at 0x7f6a7e5d1b90>"
      ]
     },
     "metadata": {},
     "output_type": "display_data"
    }
   ],
   "source": [
    "colors = ['blue', 'red']\n",
    "lw = 2\n",
    "\n",
    "for color, i, target_name in zip(colors, [0, 1], ['Not cancer', 'Cancer']):\n",
    "    plt.scatter(X_r[targets == i, 0], X_r[targets == i, 1], color=color, alpha=.5, lw=lw, label=target_name)\n",
    "plt.legend(loc='best', shadow=False, scatterpoints=1)\n",
    "_ = plt.title('PCA of Breast Cancer dataset')"
   ]
  },
  {
   "cell_type": "markdown",
   "metadata": {},
   "source": [
    "### Different representation of the same data\n",
    "- It is possible to represent the same data in several representations\n",
    "- Suppose you have a the results of heart beats 24/7 monitoring from a person (per second):\n",
    "    - You can use all entries;\n",
    "    - Average / median per minute / hour / day;\n",
    "    - Max / min value of hour;\n",
    "    - Standard deviation / variance;\n",
    "    - etc.\n",
    "- Depends on what really matter for your data\n",
    "    - In some cases, the magnitude doesn't matter. Just the variance\n",
    "    - Some cases, peak values are the most valuable"
   ]
  },
  {
   "cell_type": "markdown",
   "metadata": {},
   "source": [
    "### Correlation / covariance between features\n",
    "\n",
    "- For machine learning, two features highly correlated (linear dependent) are not so valuable;\n",
    "    - We need more information \"variety\";\n",
    "- An investigation about features correlation / covariance can save some processing from classification time and increase your results;\n",
    "- And **always** remember: **CORRELATION DOES NOT IMPLY CAUSATION**"
   ]
  },
  {
   "cell_type": "code",
   "execution_count": 16,
   "metadata": {
    "collapsed": false,
    "nbpresent": {
     "id": "712f48f2-29d9-45d5-9ce5-8950e78a34c0"
    },
    "slideshow": {
     "slide_type": "slide"
    }
   },
   "outputs": [
    {
     "data": {
      "image/png": "[encoded data removed]",
      "text/plain": [
       "<matplotlib.figure.Figure at 0x7f6a7e5d17d0>"
      ]
     },
     "metadata": {},
     "output_type": "display_data"
    }
   ],
   "source": [
    "from pandas.tools.plotting import scatter_matrix\n",
    "\n",
    "df = features[[\"mean radius\", \"mean concavity\", \"radius error\", \"mean symmetry\", \"worst area\"]].sample(frac=0.2)\n",
    "_ = scatter_matrix(df, alpha=0.7, figsize=(15, 15), diagonal='kde', )"
   ]
  },
  {
   "cell_type": "code",
   "execution_count": 17,
   "metadata": {
    "collapsed": true
   },
   "outputs": [],
   "source": [
    "from sklearn.feature_selection import VarianceThreshold, SelectKBest, SelectFromModel"
   ]
  },
  {
   "cell_type": "markdown",
   "metadata": {
    "nbpresent": {
     "id": "dc15b11f-0d18-47f4-82ab-7cef3e6de03a"
    }
   },
   "source": [
    "## Algorithm engineering"
   ]
  },
  {
   "cell_type": "markdown",
   "metadata": {},
   "source": [
    "### Train / test split"
   ]
  },
  {
   "cell_type": "code",
   "execution_count": 18,
   "metadata": {
    "collapsed": false
   },
   "outputs": [],
   "source": [
    "import sklearn"
   ]
  },
  {
   "cell_type": "code",
   "execution_count": 19,
   "metadata": {
    "collapsed": false
   },
   "outputs": [],
   "source": [
    "from sklearn.cross_validation import train_test_split"
   ]
  },
  {
   "cell_type": "code",
   "execution_count": 20,
   "metadata": {
    "collapsed": true
   },
   "outputs": [],
   "source": [
    "X_train, X_test, y_train, y_test = train_test_split(\n",
    "    features, targets, test_size=0.4, random_state=42\n",
    ")"
   ]
  },
  {
   "cell_type": "markdown",
   "metadata": {},
   "source": [
    "### How to measure your algorithm performance\n",
    "\n",
    "- There are several metrics to measure your algorithm performance\n",
    "    - KS score\n",
    "    - AUC / ROC curve\n",
    "    - **Precision / recall**\n",
    "    - **Confusion matrix**\n",
    "    - etc."
   ]
  },
  {
   "cell_type": "markdown",
   "metadata": {},
   "source": [
    "#### Confusion matrix & Precision and recall"
   ]
  },
  {
   "cell_type": "markdown",
   "metadata": {},
   "source": [
    "![title](img/precision_recall.png)"
   ]
  },
  {
   "cell_type": "markdown",
   "metadata": {
    "nbpresent": {
     "id": "73044014-4751-4a57-9f63-ab0dfe1d1fdd"
    }
   },
   "source": [
    "### Chosing your algorithm\n",
    "\n",
    "- There are a long list of algorithms already available to get started\n",
    "- You can also develop your own customized one for specific applications\n",
    "- Ask these two questions first:\n",
    "    - Should your final model be human readable?\n",
    "    - What is your SLA of delivering classification results?\n",
    "- I'm supposing you already know what kind of problem you are solving (classification, regression, ranking, etc);"
   ]
  },
  {
   "cell_type": "markdown",
   "metadata": {},
   "source": [
    "#### Random Forest\n",
    "Esemble of Decision Trees"
   ]
  },
  {
   "cell_type": "code",
   "execution_count": 21,
   "metadata": {
    "collapsed": false,
    "nbpresent": {
     "id": "026c8e42-8e35-4f46-a659-656dcf0408df"
    }
   },
   "outputs": [
    {
     "data": {
      "text/plain": [
       "RandomForestClassifier(bootstrap=True, class_weight=None, criterion='gini',\n",
       "            max_depth=None, max_features='auto', max_leaf_nodes=None,\n",
       "            min_samples_leaf=1, min_samples_split=2,\n",
       "            min_weight_fraction_leaf=0.0, n_estimators=100, n_jobs=1,\n",
       "            oob_score=False, random_state=None, verbose=0,\n",
       "            warm_start=False)"
      ]
     },
     "execution_count": 21,
     "metadata": {},
     "output_type": "execute_result"
    }
   ],
   "source": [
    "from sklearn.ensemble import RandomForestClassifier\n",
    "\n",
    "rf = RandomForestClassifier(n_estimators=100)\n",
    "rf.fit(X_train, y_train)"
   ]
  },
  {
   "cell_type": "markdown",
   "metadata": {},
   "source": [
    "#### Naive Bayes\n",
    "Conditional probability model"
   ]
  },
  {
   "cell_type": "code",
   "execution_count": 22,
   "metadata": {
    "collapsed": false
   },
   "outputs": [
    {
     "data": {
      "text/plain": [
       "GaussianNB()"
      ]
     },
     "execution_count": 22,
     "metadata": {},
     "output_type": "execute_result"
    }
   ],
   "source": [
    "from sklearn.naive_bayes import GaussianNB\n",
    "\n",
    "nb = GaussianNB()\n",
    "nb.fit(X_train, y_train)"
   ]
  },
  {
   "cell_type": "markdown",
   "metadata": {},
   "source": [
    "## Evaluating model performance"
   ]
  },
  {
   "cell_type": "code",
   "execution_count": 23,
   "metadata": {
    "collapsed": true
   },
   "outputs": [],
   "source": [
    "from sklearn import metrics"
   ]
  },
  {
   "cell_type": "markdown",
   "metadata": {},
   "source": [
    "#### Random Forest"
   ]
  },
  {
   "cell_type": "code",
   "execution_count": 24,
   "metadata": {
    "collapsed": true
   },
   "outputs": [],
   "source": [
    "y_rf_pred = rf.predict(X_test)"
   ]
  },
  {
   "cell_type": "code",
   "execution_count": 25,
   "metadata": {
    "collapsed": false
   },
   "outputs": [
    {
     "data": {
      "text/plain": [
       "array([[ 75,   5],\n",
       "       [  2, 146]])"
      ]
     },
     "execution_count": 25,
     "metadata": {},
     "output_type": "execute_result"
    }
   ],
   "source": [
    "metrics.confusion_matrix(y_test, y_rf_pred)"
   ]
  },
  {
   "cell_type": "code",
   "execution_count": 26,
   "metadata": {
    "collapsed": false
   },
   "outputs": [
    {
     "name": "stdout",
     "output_type": "stream",
     "text": [
      "             precision    recall  f1-score   support\n",
      "\n",
      "          0       0.97      0.94      0.96        80\n",
      "          1       0.97      0.99      0.98       148\n",
      "\n",
      "avg / total       0.97      0.97      0.97       228\n",
      "\n"
     ]
    }
   ],
   "source": [
    "print metrics.classification_report(y_test, y_rf_pred)"
   ]
  },
  {
   "cell_type": "markdown",
   "metadata": {},
   "source": [
    "#### Naive Bayes"
   ]
  },
  {
   "cell_type": "code",
   "execution_count": 27,
   "metadata": {
    "collapsed": true
   },
   "outputs": [],
   "source": [
    "y_nb_pred = nb.predict(X_test)"
   ]
  },
  {
   "cell_type": "code",
   "execution_count": 28,
   "metadata": {
    "collapsed": false
   },
   "outputs": [
    {
     "data": {
      "text/plain": [
       "array([[ 73,   7],\n",
       "       [  4, 144]])"
      ]
     },
     "execution_count": 28,
     "metadata": {},
     "output_type": "execute_result"
    }
   ],
   "source": [
    "metrics.confusion_matrix(y_test, y_nb_pred)"
   ]
  },
  {
   "cell_type": "code",
   "execution_count": 29,
   "metadata": {
    "collapsed": false
   },
   "outputs": [
    {
     "name": "stdout",
     "output_type": "stream",
     "text": [
      "             precision    recall  f1-score   support\n",
      "\n",
      "          0       0.95      0.91      0.93        80\n",
      "          1       0.95      0.97      0.96       148\n",
      "\n",
      "avg / total       0.95      0.95      0.95       228\n",
      "\n"
     ]
    }
   ],
   "source": [
    "print metrics.classification_report(y_test, y_nb_pred)"
   ]
  },
  {
   "cell_type": "markdown",
   "metadata": {
    "nbpresent": {
     "id": "d3456d25-2cd8-47f3-9cb5-0a7b9af7a30a"
    }
   },
   "source": [
    "### Tools for tunning"
   ]
  },
  {
   "cell_type": "code",
   "execution_count": 30,
   "metadata": {
    "collapsed": false,
    "nbpresent": {
     "id": "4e89a105-dd2f-402c-9994-a1cb2a42e42b"
    }
   },
   "outputs": [],
   "source": [
    "from sklearn.grid_search import GridSearchCV, RandomizedSearchCV\n",
    "from scipy.stats import randint as sp_randint"
   ]
  },
  {
   "cell_type": "markdown",
   "metadata": {},
   "source": [
    "#### Random Search"
   ]
  },
  {
   "cell_type": "code",
   "execution_count": 31,
   "metadata": {
    "collapsed": false
   },
   "outputs": [],
   "source": [
    "param_dist = {\n",
    "    \"max_depth\": [3, None],\n",
    "    \"max_features\": sp_randint(1, 30),\n",
    "    \"min_samples_split\": sp_randint(1, 30),\n",
    "    \"min_samples_leaf\": sp_randint(1, 30),\n",
    "    \"bootstrap\": [True, False],\n",
    "    \"criterion\": [\"gini\", \"entropy\"]\n",
    "}"
   ]
  },
  {
   "cell_type": "code",
   "execution_count": 32,
   "metadata": {
    "collapsed": true
   },
   "outputs": [],
   "source": [
    "n_iter_search = 5\n",
    "random_search = RandomizedSearchCV(\n",
    "    rf,\n",
    "    param_distributions=param_dist,\n",
    "    n_iter=n_iter_search\n",
    ")"
   ]
  },
  {
   "cell_type": "code",
   "execution_count": 33,
   "metadata": {
    "collapsed": false
   },
   "outputs": [],
   "source": [
    "_ = random_search.fit(features, targets)"
   ]
  },
  {
   "cell_type": "code",
   "execution_count": 42,
   "metadata": {
    "collapsed": false
   },
   "outputs": [
    {
     "data": {
      "text/plain": [
       "RandomForestClassifier(bootstrap=False, class_weight=None, criterion='gini',\n",
       "            max_depth=3, max_features=6, max_leaf_nodes=None,\n",
       "            min_samples_leaf=6, min_samples_split=11,\n",
       "            min_weight_fraction_leaf=0.0, n_estimators=100, n_jobs=1,\n",
       "            oob_score=False, random_state=None, verbose=0,\n",
       "            warm_start=False)"
      ]
     },
     "execution_count": 42,
     "metadata": {},
     "output_type": "execute_result"
    }
   ],
   "source": [
    "random_search.best_estimator_"
   ]
  },
  {
   "cell_type": "code",
   "execution_count": 43,
   "metadata": {
    "collapsed": true
   },
   "outputs": [],
   "source": [
    "rf_best_random = random_search.best_estimator_"
   ]
  },
  {
   "cell_type": "markdown",
   "metadata": {},
   "source": [
    "#### Grid search"
   ]
  },
  {
   "cell_type": "code",
   "execution_count": 35,
   "metadata": {
    "collapsed": true
   },
   "outputs": [],
   "source": [
    "param_grid = {\n",
    "    \"max_depth\": [3, None],\n",
    "    \"max_features\": [1, 3, 10],\n",
    "    \"min_samples_split\": [1, 3, 10],\n",
    "    \"min_samples_leaf\": [1, 3, 10],\n",
    "    \"bootstrap\": [True, False],\n",
    "    \"criterion\": [\"gini\", \"entropy\"]\n",
    "}"
   ]
  },
  {
   "cell_type": "code",
   "execution_count": 36,
   "metadata": {
    "collapsed": true
   },
   "outputs": [],
   "source": [
    "grid_search = GridSearchCV(rf, param_grid=param_grid)"
   ]
  },
  {
   "cell_type": "code",
   "execution_count": 39,
   "metadata": {
    "collapsed": false
   },
   "outputs": [],
   "source": [
    "_ = grid_search.fit(features, targets)"
   ]
  },
  {
   "cell_type": "code",
   "execution_count": 40,
   "metadata": {
    "collapsed": false
   },
   "outputs": [
    {
     "data": {
      "text/plain": [
       "RandomForestClassifier(bootstrap=False, class_weight=None,\n",
       "            criterion='entropy', max_depth=None, max_features=3,\n",
       "            max_leaf_nodes=None, min_samples_leaf=1, min_samples_split=1,\n",
       "            min_weight_fraction_leaf=0.0, n_estimators=100, n_jobs=1,\n",
       "            oob_score=False, random_state=None, verbose=0,\n",
       "            warm_start=False)"
      ]
     },
     "execution_count": 40,
     "metadata": {},
     "output_type": "execute_result"
    }
   ],
   "source": [
    "grid_search.best_estimator_"
   ]
  },
  {
   "cell_type": "code",
   "execution_count": 44,
   "metadata": {
    "collapsed": true
   },
   "outputs": [],
   "source": [
    "rf_best_grid = grid_search.best_estimator_"
   ]
  },
  {
   "cell_type": "markdown",
   "metadata": {},
   "source": [
    "#### Comparing them"
   ]
  },
  {
   "cell_type": "markdown",
   "metadata": {},
   "source": [
    "Random search"
   ]
  },
  {
   "cell_type": "code",
   "execution_count": 49,
   "metadata": {
    "collapsed": true
   },
   "outputs": [],
   "source": [
    "y_rf_random_pred = rf_best_random.predict(X_test)"
   ]
  },
  {
   "cell_type": "code",
   "execution_count": 51,
   "metadata": {
    "collapsed": false
   },
   "outputs": [
    {
     "name": "stdout",
     "output_type": "stream",
     "text": [
      "[[ 76   4]\n",
      " [  0 148]]\n"
     ]
    }
   ],
   "source": [
    "random_cm = metrics.confusion_matrix(y_test, y_rf_random_pred)\n",
    "print random_cm"
   ]
  },
  {
   "cell_type": "code",
   "execution_count": 52,
   "metadata": {
    "collapsed": false
   },
   "outputs": [
    {
     "name": "stdout",
     "output_type": "stream",
     "text": [
      "             precision    recall  f1-score   support\n",
      "\n",
      "          0       1.00      0.95      0.97        80\n",
      "          1       0.97      1.00      0.99       148\n",
      "\n",
      "avg / total       0.98      0.98      0.98       228\n",
      "\n"
     ]
    }
   ],
   "source": [
    "print metrics.classification_report(y_test, y_rf_random_pred)"
   ]
  },
  {
   "cell_type": "markdown",
   "metadata": {},
   "source": [
    "Grid search"
   ]
  },
  {
   "cell_type": "code",
   "execution_count": 53,
   "metadata": {
    "collapsed": true
   },
   "outputs": [],
   "source": [
    "y_rf_grid_pred = rf_best_grid.predict(X_test)"
   ]
  },
  {
   "cell_type": "code",
   "execution_count": 54,
   "metadata": {
    "collapsed": false
   },
   "outputs": [
    {
     "name": "stdout",
     "output_type": "stream",
     "text": [
      "[[ 80   0]\n",
      " [  0 148]]\n"
     ]
    }
   ],
   "source": [
    "grid_cm = metrics.confusion_matrix(y_test, y_rf_grid_pred)\n",
    "print grid_cm"
   ]
  },
  {
   "cell_type": "code",
   "execution_count": 55,
   "metadata": {
    "collapsed": false
   },
   "outputs": [
    {
     "name": "stdout",
     "output_type": "stream",
     "text": [
      "             precision    recall  f1-score   support\n",
      "\n",
      "          0       1.00      1.00      1.00        80\n",
      "          1       1.00      1.00      1.00       148\n",
      "\n",
      "avg / total       1.00      1.00      1.00       228\n",
      "\n"
     ]
    }
   ],
   "source": [
    "print metrics.classification_report(y_test, y_rf_grid_pred)"
   ]
  },
  {
   "cell_type": "markdown",
   "metadata": {
    "nbpresent": {
     "id": "1e11b6c8-7455-4cf2-891f-04ec716bea67"
    }
   },
   "source": [
    "## Evaluating (offline) business gains \n",
    "\n",
    "Now we need to measure our performance based on the ruler that exactly represents our business goal."
   ]
  },
  {
   "cell_type": "markdown",
   "metadata": {},
   "source": [
    "Getting the confusion matrix parameters:"
   ]
  },
  {
   "cell_type": "code",
   "execution_count": 56,
   "metadata": {
    "collapsed": false
   },
   "outputs": [
    {
     "name": "stdout",
     "output_type": "stream",
     "text": [
      "[[ 80   0]\n",
      " [  0 148]]\n"
     ]
    }
   ],
   "source": [
    "matrix = metrics.confusion_matrix(y_test, y_rf_grid_pred)\n",
    "print matrix"
   ]
  },
  {
   "cell_type": "code",
   "execution_count": 57,
   "metadata": {
    "collapsed": false
   },
   "outputs": [],
   "source": [
    "num_tp = matrix[0][0]\n",
    "num_fn = matrix[0][1]\n",
    "num_fp = matrix[1][0]\n",
    "num_tn = matrix[1][1]"
   ]
  },
  {
   "cell_type": "markdown",
   "metadata": {},
   "source": [
    "Calculating the operation cost / savings based on classification parameters:"
   ]
  },
  {
   "cell_type": "code",
   "execution_count": 58,
   "metadata": {
    "collapsed": false,
    "nbpresent": {
     "id": "a737d9a9-6dfa-468d-8567-c1d9af4dab4c"
    }
   },
   "outputs": [
    {
     "name": "stdout",
     "output_type": "stream",
     "text": [
      "-560000\n"
     ]
    }
   ],
   "source": [
    "good_clf = operation_cost(num_fn, num_fp, num_tp, num_tn)\n",
    "print good_clf"
   ]
  },
  {
   "cell_type": "markdown",
   "metadata": {},
   "source": [
    "Using the \"worst\" classifier got by Random Search"
   ]
  },
  {
   "cell_type": "code",
   "execution_count": 59,
   "metadata": {
    "collapsed": false
   },
   "outputs": [
    {
     "name": "stdout",
     "output_type": "stream",
     "text": [
      "[[ 76   4]\n",
      " [  0 148]]\n"
     ]
    }
   ],
   "source": [
    "bad_matrix = metrics.confusion_matrix(y_test, y_rf_random_pred)\n",
    "print bad_matrix"
   ]
  },
  {
   "cell_type": "code",
   "execution_count": 60,
   "metadata": {
    "collapsed": false
   },
   "outputs": [],
   "source": [
    "bad_num_tp = bad_matrix[0][0]\n",
    "bad_num_fn = bad_matrix[0][1]\n",
    "bad_num_fp = bad_matrix[1][0]\n",
    "bad_num_tn = bad_matrix[1][1]"
   ]
  },
  {
   "cell_type": "code",
   "execution_count": 61,
   "metadata": {
    "collapsed": false
   },
   "outputs": [
    {
     "name": "stdout",
     "output_type": "stream",
     "text": [
      "-472000\n"
     ]
    }
   ],
   "source": [
    "bad_clf = operation_cost(bad_num_fn, bad_num_fp, bad_num_tp, bad_num_tn)\n",
    "print bad_clf"
   ]
  },
  {
   "cell_type": "code",
   "execution_count": 62,
   "metadata": {
    "collapsed": false
   },
   "outputs": [
    {
     "name": "stdout",
     "output_type": "stream",
     "text": [
      "-88000\n"
     ]
    }
   ],
   "source": [
    "print (good_clf - bad_clf)"
   ]
  },
  {
   "cell_type": "markdown",
   "metadata": {},
   "source": [
    "With the worst classifier we lose **US\\$ 88000,0** of savings"
   ]
  },
  {
   "cell_type": "markdown",
   "metadata": {},
   "source": [
    "### Catch up"
   ]
  },
  {
   "cell_type": "markdown",
   "metadata": {
    "nbpresent": {
     "id": "ff3e4df1-d7bb-45f1-be2c-80f467118133"
    }
   },
   "source": [
    "What to do if learning fails?\n",
    "\n",
    "- Improve your feature engineering;\n",
    "- Get more data related to the problem;\n",
    "- Change the feature representation of the data;\n",
    "    - Also consider try more sofisticated methods to extract more information of that data\n",
    "    - Example for text data: string similarity, IDF, Entity recognition, word2vec, etc;\n",
    "- Change the optimization algorithm used to apply your learning rule;"
   ]
  },
  {
   "cell_type": "markdown",
   "metadata": {
    "nbpresent": {
     "id": "f639c7ed-35e3-4d31-afb0-26f53e91103f"
    }
   },
   "source": [
    "## Evaluating model lifecycle\n",
    "\n",
    "- For time based events, you need to know how long is the lifecycle of your model;\n",
    "    - Get historical data long enough to get some fade;\n",
    "    - Apply your trained classifier to \"future\" data and see when it starts to fail significantly;"
   ]
  }
 ],
 "metadata": {
  "anaconda-cloud": {},
  "kernelspec": {
   "display_name": "Python [default]",
   "language": "python",
   "name": "python2"
  },
  "language_info": {
   "codemirror_mode": {
    "name": "ipython",
    "version": 2
   },
   "file_extension": ".py",
   "mimetype": "text/x-python",
   "name": "python",
   "nbconvert_exporter": "python",
   "pygments_lexer": "ipython2",
   "version": "2.7.12"
  },
  "nbpresent": {
   "slides": {
    "00776155-46d9-4604-9d46-d670dc2bb9a8": {
     "id": "00776155-46d9-4604-9d46-d670dc2bb9a8",
     "prev": "1b92ea3e-5f01-4645-ae84-6250cc85c57d",
     "regions": {
      "2483a22b-5feb-4594-9379-c15a0c019e66": {
       "attrs": {
        "height": 0.8,
        "width": 0.8,
        "x": 0.1,
        "y": 0.1
       },
       "content": {
        "cell": "47f200f6-426c-4436-af23-572ab1cd4426",
        "part": "whole"
       },
       "id": "2483a22b-5feb-4594-9379-c15a0c019e66"
      }
     }
    },
    "04a6ec96-bbf9-4169-a713-fe19828b8860": {
     "id": "04a6ec96-bbf9-4169-a713-fe19828b8860",
     "prev": "38ab0ace-cbc1-490c-9a04-5cd17a566322",
     "regions": {
      "8ca9895b-af5f-4690-8bfc-fc74a5300a2f": {
       "attrs": {
        "height": 0.8,
        "width": 0.8,
        "x": 0.1,
        "y": 0.1
       },
       "content": {
        "cell": "bd2bffc3-76e4-4613-beec-3dea17e112f0",
        "part": "whole"
       },
       "id": "8ca9895b-af5f-4690-8bfc-fc74a5300a2f"
      }
     }
    },
    "0af3bef4-6cd3-4c21-9d3d-3f949b456044": {
     "id": "0af3bef4-6cd3-4c21-9d3d-3f949b456044",
     "prev": "7ad276e8-d93d-4158-ac66-101d57566dfc",
     "regions": {
      "2b11f6bc-ba9d-447a-9908-34f59aa965a6": {
       "attrs": {
        "height": 0.8,
        "width": 0.8,
        "x": 0.1,
        "y": 0.1
       },
       "content": {
        "cell": "278420a1-2119-4576-aca0-62e88d5af191",
        "part": "whole"
       },
       "id": "2b11f6bc-ba9d-447a-9908-34f59aa965a6"
      }
     }
    },
    "0ce21ee1-03df-4d15-8dd5-cec337fe46e4": {
     "id": "0ce21ee1-03df-4d15-8dd5-cec337fe46e4",
     "prev": "245059bc-d3de-4c01-89b9-c2224d7f4d74",
     "regions": {
      "e38ef32d-b593-43a9-934c-dfef025d4ca2": {
       "attrs": {
        "height": 0.8,
        "width": 0.8,
        "x": 0.1,
        "y": 0.1
       },
       "content": {
        "cell": "712f48f2-29d9-45d5-9ce5-8950e78a34c0",
        "part": "whole"
       },
       "id": "e38ef32d-b593-43a9-934c-dfef025d4ca2"
      }
     }
    },
    "175dba78-067e-492e-863a-3f21ef3780bf": {
     "id": "175dba78-067e-492e-863a-3f21ef3780bf",
     "prev": "35a09995-fc81-4c48-87e2-52cd285292f4",
     "regions": {
      "765161b2-0565-413e-b988-719e208b33f5": {
       "attrs": {
        "height": 0.8,
        "width": 0.8,
        "x": 0.1,
        "y": 0.1
       },
       "content": {
        "cell": "dbed6e77-be35-450e-a157-d3fd376f5937",
        "part": "whole"
       },
       "id": "765161b2-0565-413e-b988-719e208b33f5"
      }
     }
    },
    "18b7c44b-7435-45b5-abd1-8d7b874e1f49": {
     "id": "18b7c44b-7435-45b5-abd1-8d7b874e1f49",
     "prev": "d9926eca-d540-4f17-8f12-a4391400de46",
     "regions": {
      "04952b47-938e-4124-a94f-95a6b522296a": {
       "attrs": {
        "height": 0.4,
        "width": 0.8,
        "x": 0.1,
        "y": 0.5
       },
       "content": {
        "cell": "ff3e4df1-d7bb-45f1-be2c-80f467118133",
        "part": "whole"
       },
       "id": "04952b47-938e-4124-a94f-95a6b522296a"
      },
      "2ad56723-4c91-4f51-af31-be13fe5c6198": {
       "attrs": {
        "height": 0.4,
        "width": 0.8,
        "x": 0.1,
        "y": 0.5
       },
       "content": {
        "cell": "f639c7ed-35e3-4d31-afb0-26f53e91103f",
        "part": "whole"
       },
       "id": "2ad56723-4c91-4f51-af31-be13fe5c6198"
      },
      "36a07a61-8a15-4078-a74a-0cccfec8365b": {
       "attrs": {
        "height": 0.4,
        "width": 0.8,
        "x": 0.1,
        "y": 0.5
       },
       "content": {
        "cell": "8574f600-05b1-441e-8a46-f249ecba530e",
        "part": "whole"
       },
       "id": "36a07a61-8a15-4078-a74a-0cccfec8365b"
      },
      "42024548-c853-4c23-b80c-41f4c867c66a": {
       "attrs": {
        "height": 0.4,
        "width": 0.8,
        "x": 0.1,
        "y": 0.5
       },
       "content": {
        "cell": "dc15b11f-0d18-47f4-82ab-7cef3e6de03a",
        "part": "whole"
       },
       "id": "42024548-c853-4c23-b80c-41f4c867c66a"
      },
      "4da14525-ea8d-41e8-88d6-08f3fcb9140d": {
       "attrs": {
        "height": 0.4,
        "width": 0.8,
        "x": 0.1,
        "y": 0.5
       },
       "content": {
        "cell": "026c8e42-8e35-4f46-a659-656dcf0408df",
        "part": "whole"
       },
       "id": "4da14525-ea8d-41e8-88d6-08f3fcb9140d"
      },
      "5f2f5b2c-2226-459f-b0a2-97662b7be54d": {
       "attrs": {
        "height": 0.4,
        "width": 0.8,
        "x": 0.1,
        "y": 0.5
       },
       "content": {
        "cell": "73044014-4751-4a57-9f63-ab0dfe1d1fdd",
        "part": "whole"
       },
       "id": "5f2f5b2c-2226-459f-b0a2-97662b7be54d"
      },
      "755ebe7a-2263-40fa-89bb-c1ac926e5c18": {
       "attrs": {
        "height": 0.4,
        "width": 0.8,
        "x": 0.1,
        "y": 0.5
       },
       "content": {
        "cell": "2a3a386f-d622-4427-8180-d35d67f2b414",
        "part": "whole"
       },
       "id": "755ebe7a-2263-40fa-89bb-c1ac926e5c18"
      },
      "7aeffda3-7282-461d-bc39-c0be45522509": {
       "attrs": {
        "height": 0.4,
        "width": 0.8,
        "x": 0.1,
        "y": 0.5
       },
       "content": {
        "cell": "fc0de363-3ba0-4404-96e2-57c963ff340d",
        "part": "whole"
       },
       "id": "7aeffda3-7282-461d-bc39-c0be45522509"
      },
      "846fd22b-50a8-4944-ab17-ed97752daa10": {
       "attrs": {
        "height": 0.4,
        "width": 0.8,
        "x": 0.1,
        "y": 0.5
       },
       "content": {
        "cell": "5931caa2-6561-492a-af49-e5e34a7d41c6",
        "part": "whole"
       },
       "id": "846fd22b-50a8-4944-ab17-ed97752daa10"
      },
      "ace86e2e-e365-4b59-a470-b8eb77b8b0d1": {
       "attrs": {
        "height": 0.8,
        "width": 0.8,
        "x": 0.1,
        "y": 0.1
       },
       "content": {
        "cell": "aefb5931-c8c5-4dff-ac72-9e4e6c70b9d2",
        "part": "whole"
       },
       "id": "ace86e2e-e365-4b59-a470-b8eb77b8b0d1"
      },
      "b017fa63-e44d-481e-960a-b2549a821263": {
       "attrs": {
        "height": 0.4,
        "width": 0.8,
        "x": 0.1,
        "y": 0.5
       },
       "content": {
        "cell": "6bf7f07b-22a9-4bb8-b2f7-352afc455fd6",
        "part": "whole"
       },
       "id": "b017fa63-e44d-481e-960a-b2549a821263"
      },
      "ba118280-8ba7-4493-b105-33a2c8cf5e6e": {
       "attrs": {
        "height": 0.4,
        "width": 0.8,
        "x": 0.1,
        "y": 0.5
       },
       "content": {
        "cell": "1e11b6c8-7455-4cf2-891f-04ec716bea67",
        "part": "whole"
       },
       "id": "ba118280-8ba7-4493-b105-33a2c8cf5e6e"
      },
      "c6878de2-4b18-4365-88c4-a2f18961404f": {
       "attrs": {
        "height": 0.4,
        "width": 0.8,
        "x": 0.1,
        "y": 0.5
       },
       "content": {
        "cell": "94c840d8-8739-442d-aae3-9ed31b348f17",
        "part": "whole"
       },
       "id": "c6878de2-4b18-4365-88c4-a2f18961404f"
      },
      "cb64638f-1747-4f16-a0cd-f65c58797c8f": {
       "attrs": {
        "height": 0.4,
        "width": 0.8,
        "x": 0.1,
        "y": 0.5
       },
       "content": {
        "cell": "d3456d25-2cd8-47f3-9cb5-0a7b9af7a30a",
        "part": "whole"
       },
       "id": "cb64638f-1747-4f16-a0cd-f65c58797c8f"
      },
      "dfd00429-7918-4bd2-b646-fce5d4b4c74f": {
       "attrs": {
        "height": 0.4,
        "width": 0.8,
        "x": 0.1,
        "y": 0.5
       },
       "content": {
        "cell": "614f4b73-7020-42bf-906d-860209fe0f1a",
        "part": "whole"
       },
       "id": "dfd00429-7918-4bd2-b646-fce5d4b4c74f"
      },
      "e04eb75e-8ade-4190-bd40-add3bc03a9e3": {
       "attrs": {
        "height": 0.4,
        "width": 0.8,
        "x": 0.1,
        "y": 0.5
       },
       "content": {
        "cell": "1984d34f-3885-4608-bc95-3b55bd67da52",
        "part": "whole"
       },
       "id": "e04eb75e-8ade-4190-bd40-add3bc03a9e3"
      },
      "ec3bebb6-85f5-4a2f-833a-9b83a4961f8c": {
       "attrs": {
        "height": 0.4,
        "width": 0.8,
        "x": 0.1,
        "y": 0.5
       },
       "content": {
        "cell": "da768bd1-6c56-4da6-875f-a4579cff7c02",
        "part": "whole"
       },
       "id": "ec3bebb6-85f5-4a2f-833a-9b83a4961f8c"
      },
      "f0240a38-f371-4268-aa47-4a0765a8fe64": {
       "attrs": {
        "height": 0.4,
        "width": 0.8,
        "x": 0.1,
        "y": 0.5
       },
       "content": {
        "cell": "4e89a105-dd2f-402c-9994-a1cb2a42e42b",
        "part": "whole"
       },
       "id": "f0240a38-f371-4268-aa47-4a0765a8fe64"
      },
      "f9b97bc5-07d7-4924-8c5f-d48d86aff5dc": {
       "attrs": {
        "height": 0.4,
        "width": 0.8,
        "x": 0.1,
        "y": 0.5
       },
       "content": {
        "cell": "a737d9a9-6dfa-468d-8567-c1d9af4dab4c",
        "part": "whole"
       },
       "id": "f9b97bc5-07d7-4924-8c5f-d48d86aff5dc"
      },
      "fb4ebf0a-867e-4966-b9b3-1c39d1aabcf8": {
       "attrs": {
        "height": 0.4,
        "width": 0.8,
        "x": 0.1,
        "y": 0.5
       },
       "content": {
        "cell": "a7e51e5b-4cab-47a3-aaf0-ed51201c35e0",
        "part": "whole"
       },
       "id": "fb4ebf0a-867e-4966-b9b3-1c39d1aabcf8"
      }
     }
    },
    "1b92ea3e-5f01-4645-ae84-6250cc85c57d": {
     "id": "1b92ea3e-5f01-4645-ae84-6250cc85c57d",
     "prev": "60680dff-0772-477c-a177-85bde939ef47",
     "regions": {
      "e8cc7729-086d-456c-87eb-fc05103af479": {
       "attrs": {
        "height": 0.8,
        "width": 0.8,
        "x": 0.1,
        "y": 0.1
       },
       "content": {
        "cell": "3e21c87b-91a3-48d4-8687-0072a1142625",
        "part": "whole"
       },
       "id": "e8cc7729-086d-456c-87eb-fc05103af479"
      }
     }
    },
    "245059bc-d3de-4c01-89b9-c2224d7f4d74": {
     "id": "245059bc-d3de-4c01-89b9-c2224d7f4d74",
     "prev": "c6174ec5-bc8e-40dc-9022-dc1ef95fc619",
     "regions": {
      "8259468f-9318-4623-9bf6-90460859dc79": {
       "attrs": {
        "height": 0.8,
        "width": 0.8,
        "x": 0.1,
        "y": 0.1
       },
       "content": {
        "cell": "2c9736ea-09f7-4eb1-a9a8-541b17bed08d",
        "part": "whole"
       },
       "id": "8259468f-9318-4623-9bf6-90460859dc79"
      }
     }
    },
    "35a09995-fc81-4c48-87e2-52cd285292f4": {
     "id": "35a09995-fc81-4c48-87e2-52cd285292f4",
     "prev": "4c29755d-9b32-41c3-8697-1cf99fc46da6",
     "regions": {
      "6337ea06-b749-43db-8877-0f94f2daea5e": {
       "attrs": {
        "height": 0.8,
        "width": 0.8,
        "x": 0.1,
        "y": 0.1
       },
       "content": {
        "cell": "e6dd8389-90f4-4e7c-989b-aa5796c0e885",
        "part": "whole"
       },
       "id": "6337ea06-b749-43db-8877-0f94f2daea5e"
      }
     }
    },
    "38ab0ace-cbc1-490c-9a04-5cd17a566322": {
     "id": "38ab0ace-cbc1-490c-9a04-5cd17a566322",
     "prev": "51a32e38-8e55-485b-b9fe-17081309d8f6",
     "regions": {
      "ac25cfc9-5af8-4292-a4e8-8e4592f2e149": {
       "attrs": {
        "height": 0.8,
        "width": 0.8,
        "x": 0.1,
        "y": 0.1
       },
       "content": {
        "cell": "4d02316c-8666-45d4-9717-ee765b9adf3c",
        "part": "whole"
       },
       "id": "ac25cfc9-5af8-4292-a4e8-8e4592f2e149"
      }
     }
    },
    "3e17d633-ca53-4515-8a93-debfdf355bd1": {
     "id": "3e17d633-ca53-4515-8a93-debfdf355bd1",
     "prev": "667d2b71-f6dd-4715-a420-35f6c03aac73",
     "regions": {
      "7f3adfbd-f575-4b1a-b5fd-1d8e8c0a3462": {
       "attrs": {
        "height": 0.8,
        "width": 0.8,
        "x": 0.1,
        "y": 0.1
       },
       "content": {
        "cell": "25d729d1-38ef-4930-a9e7-435a3bdb5fc9",
        "part": "whole"
       },
       "id": "7f3adfbd-f575-4b1a-b5fd-1d8e8c0a3462"
      }
     }
    },
    "426e457f-0323-4568-b707-7b67244f3abe": {
     "id": "426e457f-0323-4568-b707-7b67244f3abe",
     "prev": "958681c7-cd6e-4fd8-948a-115756e80165",
     "regions": {
      "7069fb17-8992-4b51-9208-abb69b2fed26": {
       "attrs": {
        "height": 0.8,
        "width": 0.8,
        "x": 0.1,
        "y": 0.1
       },
       "content": {
        "cell": "021308cc-3a12-435e-801b-dc45cb3d636c",
        "part": "whole"
       },
       "id": "7069fb17-8992-4b51-9208-abb69b2fed26"
      }
     }
    },
    "4c29755d-9b32-41c3-8697-1cf99fc46da6": {
     "id": "4c29755d-9b32-41c3-8697-1cf99fc46da6",
     "prev": "3e17d633-ca53-4515-8a93-debfdf355bd1",
     "regions": {
      "d8ac5dbd-9308-4e2b-b4d4-1cc07f6f7ea1": {
       "attrs": {
        "height": 0.8,
        "width": 0.8,
        "x": 0.1,
        "y": 0.1
       },
       "content": {
        "cell": "2dba1c71-180a-4e62-a40e-2cadef266261",
        "part": "whole"
       },
       "id": "d8ac5dbd-9308-4e2b-b4d4-1cc07f6f7ea1"
      }
     }
    },
    "51a32e38-8e55-485b-b9fe-17081309d8f6": {
     "id": "51a32e38-8e55-485b-b9fe-17081309d8f6",
     "prev": "175dba78-067e-492e-863a-3f21ef3780bf",
     "regions": {
      "625bb9a7-bd54-4072-b247-44cfca655a62": {
       "attrs": {
        "height": 0.8,
        "width": 0.8,
        "x": 0.1,
        "y": 0.1
       },
       "content": {
        "cell": "5bfc7faa-4830-40d8-9f35-229d950dd5ce",
        "part": "whole"
       },
       "id": "625bb9a7-bd54-4072-b247-44cfca655a62"
      }
     }
    },
    "5a720307-3da5-45db-8f20-523d4b3e5226": {
     "id": "5a720307-3da5-45db-8f20-523d4b3e5226",
     "prev": "d8915486-9d2c-4cdb-aaff-79d4746a4609",
     "regions": {
      "57975f6f-1933-415f-bdd0-5bf69e0aaaad": {
       "attrs": {
        "height": 0.8,
        "width": 0.8,
        "x": 0.1,
        "y": 0.1
       },
       "content": {
        "cell": "144e4260-8aa5-439f-bee6-6167413f0c84",
        "part": "whole"
       },
       "id": "57975f6f-1933-415f-bdd0-5bf69e0aaaad"
      }
     }
    },
    "60680dff-0772-477c-a177-85bde939ef47": {
     "id": "60680dff-0772-477c-a177-85bde939ef47",
     "prev": "727efc67-22f5-42be-99f2-f4cf81a95854",
     "regions": {
      "86ca718f-caff-4f96-9b43-a4b066eea03d": {
       "attrs": {
        "height": 0.8,
        "width": 0.8,
        "x": 0.1,
        "y": 0.1
       },
       "content": {
        "cell": "90e7f9fb-055f-4b13-ab23-51845c395e9a",
        "part": "whole"
       },
       "id": "86ca718f-caff-4f96-9b43-a4b066eea03d"
      }
     }
    },
    "667d2b71-f6dd-4715-a420-35f6c03aac73": {
     "id": "667d2b71-f6dd-4715-a420-35f6c03aac73",
     "prev": null,
     "regions": {
      "5b8b7596-da65-492b-a4eb-3ca2c1af4521": {
       "attrs": {
        "height": 0.8,
        "width": 0.8,
        "x": 0.1,
        "y": 0.1
       },
       "content": {
        "cell": "caca2dc6-2f69-42ed-b6db-d13c72f29933",
        "part": "whole"
       },
       "id": "5b8b7596-da65-492b-a4eb-3ca2c1af4521"
      },
      "7e703993-c733-4a33-85c8-d40ba82f1422": {
       "attrs": {
        "height": 0.8000000000000002,
        "width": 0.8,
        "x": 0.1,
        "y": 0.10000000000000002
       },
       "id": "7e703993-c733-4a33-85c8-d40ba82f1422"
      }
     }
    },
    "6719fd7c-a108-4a1f-a4e0-1c50671a3f2b": {
     "id": "6719fd7c-a108-4a1f-a4e0-1c50671a3f2b",
     "prev": "5a720307-3da5-45db-8f20-523d4b3e5226",
     "regions": {
      "15e9918c-ff3a-4641-b01d-c2702c555688": {
       "attrs": {
        "height": 0.8,
        "width": 0.8,
        "x": 0.1,
        "y": 0.1
       },
       "content": {
        "cell": "253021d1-3474-4fb0-ab2e-3b572886fb27",
        "part": "whole"
       },
       "id": "15e9918c-ff3a-4641-b01d-c2702c555688"
      }
     }
    },
    "727efc67-22f5-42be-99f2-f4cf81a95854": {
     "id": "727efc67-22f5-42be-99f2-f4cf81a95854",
     "prev": "6719fd7c-a108-4a1f-a4e0-1c50671a3f2b",
     "regions": {
      "13a6b661-c073-41e8-af29-cdf2d0ebd475": {
       "attrs": {
        "height": 0.8,
        "width": 0.8,
        "x": 0.1,
        "y": 0.1
       },
       "content": {
        "cell": "b8a172ca-127c-497d-ab42-36ab623dff72",
        "part": "whole"
       },
       "id": "13a6b661-c073-41e8-af29-cdf2d0ebd475"
      }
     }
    },
    "7ad276e8-d93d-4158-ac66-101d57566dfc": {
     "id": "7ad276e8-d93d-4158-ac66-101d57566dfc",
     "prev": "f89ed3c8-c7a1-40d5-bf2c-d1234bc9b847",
     "regions": {
      "1d75db9f-a017-4b90-a698-99641c3ac4a8": {
       "attrs": {
        "height": 0.8,
        "width": 0.8,
        "x": 0.1,
        "y": 0.1
       },
       "content": {
        "cell": "32942df7-f50c-447e-a113-0261ed8814c4",
        "part": "whole"
       },
       "id": "1d75db9f-a017-4b90-a698-99641c3ac4a8"
      }
     }
    },
    "958681c7-cd6e-4fd8-948a-115756e80165": {
     "id": "958681c7-cd6e-4fd8-948a-115756e80165",
     "prev": "0ce21ee1-03df-4d15-8dd5-cec337fe46e4",
     "regions": {
      "d81a4a93-9d9d-4c4d-b349-960919e62201": {
       "attrs": {
        "height": 0.8,
        "width": 0.8,
        "x": 0.1,
        "y": 0.1
       },
       "content": {
        "cell": "eddd60e6-4e84-448f-9acf-f519ae951990",
        "part": "whole"
       },
       "id": "d81a4a93-9d9d-4c4d-b349-960919e62201"
      }
     }
    },
    "ad3cbb31-a0d1-4d3c-b0e5-80e88868b58e": {
     "id": "ad3cbb31-a0d1-4d3c-b0e5-80e88868b58e",
     "prev": "0af3bef4-6cd3-4c21-9d3d-3f949b456044",
     "regions": {
      "05173ee1-9695-4e08-8071-65fbd8ad18a8": {
       "attrs": {
        "height": 0.8,
        "width": 0.8,
        "x": 0.1,
        "y": 0.1
       },
       "content": {
        "cell": "511afe17-5cec-401c-97b0-32d566442767",
        "part": "whole"
       },
       "id": "05173ee1-9695-4e08-8071-65fbd8ad18a8"
      }
     }
    },
    "c6174ec5-bc8e-40dc-9022-dc1ef95fc619": {
     "id": "c6174ec5-bc8e-40dc-9022-dc1ef95fc619",
     "prev": "ad3cbb31-a0d1-4d3c-b0e5-80e88868b58e",
     "regions": {
      "6ae6c2ee-f765-44f9-801f-db4c8b00665d": {
       "attrs": {
        "height": 0.8,
        "width": 0.8,
        "x": 0.1,
        "y": 0.1
       },
       "content": {
        "cell": "610c5861-ab23-4a13-9c1c-6a39d57a4372",
        "part": "whole"
       },
       "id": "6ae6c2ee-f765-44f9-801f-db4c8b00665d"
      }
     }
    },
    "caf77256-7f00-4c6f-b536-23e920da35b6": {
     "id": "caf77256-7f00-4c6f-b536-23e920da35b6",
     "prev": "426e457f-0323-4568-b707-7b67244f3abe",
     "regions": {
      "867358f8-347a-4364-a7f9-4fea13c8612c": {
       "attrs": {
        "height": 0.8,
        "width": 0.8,
        "x": 0.1,
        "y": 0.1
       },
       "content": {
        "cell": "7c371fc1-f312-4ff5-a597-99d664639b04",
        "part": "whole"
       },
       "id": "867358f8-347a-4364-a7f9-4fea13c8612c"
      }
     }
    },
    "d8915486-9d2c-4cdb-aaff-79d4746a4609": {
     "id": "d8915486-9d2c-4cdb-aaff-79d4746a4609",
     "prev": "f5eb195f-613a-4d8b-9b13-531065958a0f",
     "regions": {
      "6035ff2f-8715-43b5-bc7c-06177a19f7c6": {
       "attrs": {
        "height": 0.8,
        "width": 0.8,
        "x": 0.1,
        "y": 0.1
       },
       "content": {
        "cell": "b6b5b50b-0840-4284-b715-f90846e45285",
        "part": "whole"
       },
       "id": "6035ff2f-8715-43b5-bc7c-06177a19f7c6"
      }
     }
    },
    "d9926eca-d540-4f17-8f12-a4391400de46": {
     "id": "d9926eca-d540-4f17-8f12-a4391400de46",
     "prev": "caf77256-7f00-4c6f-b536-23e920da35b6",
     "regions": {
      "ac9fbec1-6107-401c-89b0-f70eff963c5f": {
       "attrs": {
        "height": 0.8,
        "width": 0.8,
        "x": 0.1,
        "y": 0.1
       },
       "content": {
        "cell": "9cc61b72-a83c-4b8a-bdc5-e3760634e284",
        "part": "whole"
       },
       "id": "ac9fbec1-6107-401c-89b0-f70eff963c5f"
      }
     }
    },
    "f5eb195f-613a-4d8b-9b13-531065958a0f": {
     "id": "f5eb195f-613a-4d8b-9b13-531065958a0f",
     "prev": "04a6ec96-bbf9-4169-a713-fe19828b8860",
     "regions": {
      "a86d4c7f-877a-4461-8546-21e6a0e20306": {
       "attrs": {
        "height": 0.8,
        "width": 0.8,
        "x": 0.1,
        "y": 0.1
       },
       "content": {
        "cell": "6c58ac20-c61f-4a29-9934-225a99dae36d",
        "part": "whole"
       },
       "id": "a86d4c7f-877a-4461-8546-21e6a0e20306"
      }
     }
    },
    "f89ed3c8-c7a1-40d5-bf2c-d1234bc9b847": {
     "id": "f89ed3c8-c7a1-40d5-bf2c-d1234bc9b847",
     "prev": "00776155-46d9-4604-9d46-d670dc2bb9a8",
     "regions": {
      "afe5fe9f-659f-47bc-9591-5eacb93ffeeb": {
       "attrs": {
        "height": 0.8,
        "width": 0.8,
        "x": 0.1,
        "y": 0.1
       },
       "content": {
        "cell": "6a3f4bab-af79-4a5b-a3cc-228fff561d65",
        "part": "whole"
       },
       "id": "afe5fe9f-659f-47bc-9591-5eacb93ffeeb"
      }
     }
    }
   },
   "themes": {
    "default": "34060c65-b903-45b9-9672-b24a3b9dca7b",
    "theme": {
     "34060c65-b903-45b9-9672-b24a3b9dca7b": {
      "backgrounds": {
       "backgroundColor": {
        "background-color": "backgroundColor",
        "id": "backgroundColor"
       }
      },
      "id": "34060c65-b903-45b9-9672-b24a3b9dca7b",
      "palette": {
       "backgroundColor": {
        "id": "backgroundColor",
        "rgb": [
         256,
         256,
         256
        ]
       },
       "headingColor": {
        "id": "headingColor",
        "rgb": [
         0,
         0,
         0
        ]
       },
       "linkColor": {
        "id": "linkColor",
        "rgb": [
         0,
         0,
         139
        ]
       },
       "mainColor": {
        "id": "mainColor",
        "rgb": [
         0,
         0,
         0
        ]
       }
      },
      "rules": {
       "a": {
        "color": "linkColor"
       },
       "h1": {
        "color": "headingColor",
        "font-family": "News Cycle",
        "font-size": 7
       },
       "h2": {
        "color": "headingColor",
        "font-family": "News Cycle",
        "font-size": 5
       },
       "h3": {
        "color": "headingColor",
        "font-family": "News Cycle",
        "font-size": 3.75
       },
       "h4": {
        "color": "headingColor",
        "font-family": "News Cycle",
        "font-size": 3
       },
       "h5": {
        "color": "headingColor",
        "font-family": "News Cycle"
       },
       "h6": {
        "color": "headingColor",
        "font-family": "News Cycle"
       },
       "h7": {
        "color": "headingColor",
        "font-family": "News Cycle"
       },
       "li": {
        "color": "mainColor",
        "font-family": "Lato",
        "font-size": 5
       },
       "p": {
        "color": "mainColor",
        "font-family": "Lato",
        "font-size": 5
       }
      },
      "text-base": {
       "color": "mainColor",
       "font-family": "Lato",
       "font-size": 5
      }
     },
     "e17f5a9a-cf88-4619-a70a-b148b0b59aa8": {
      "backgrounds": {
       "dc7afa04-bf90-40b1-82a5-726e3cff5267": {
        "background-color": "31af15d2-7e15-44c5-ab5e-e04b16a89eff",
        "id": "dc7afa04-bf90-40b1-82a5-726e3cff5267"
       }
      },
      "id": "e17f5a9a-cf88-4619-a70a-b148b0b59aa8",
      "palette": {
       "19cc588f-0593-49c9-9f4b-e4d7cc113b1c": {
        "id": "19cc588f-0593-49c9-9f4b-e4d7cc113b1c",
        "rgb": [
         252,
         252,
         252
        ]
       },
       "31af15d2-7e15-44c5-ab5e-e04b16a89eff": {
        "id": "31af15d2-7e15-44c5-ab5e-e04b16a89eff",
        "rgb": [
         68,
         68,
         68
        ]
       },
       "50f92c45-a630-455b-aec3-788680ec7410": {
        "id": "50f92c45-a630-455b-aec3-788680ec7410",
        "rgb": [
         197,
         226,
         245
        ]
       },
       "c5cc3653-2ee1-402a-aba2-7caae1da4f6c": {
        "id": "c5cc3653-2ee1-402a-aba2-7caae1da4f6c",
        "rgb": [
         43,
         126,
         184
        ]
       },
       "efa7f048-9acb-414c-8b04-a26811511a21": {
        "id": "efa7f048-9acb-414c-8b04-a26811511a21",
        "rgb": [
         25.118061674008803,
         73.60176211453744,
         107.4819383259912
        ]
       }
      },
      "rules": {
       "a": {
        "color": "19cc588f-0593-49c9-9f4b-e4d7cc113b1c"
       },
       "blockquote": {
        "color": "50f92c45-a630-455b-aec3-788680ec7410",
        "font-size": 3
       },
       "code": {
        "font-family": "Anonymous Pro"
       },
       "h1": {
        "color": "19cc588f-0593-49c9-9f4b-e4d7cc113b1c",
        "font-family": "Merriweather",
        "font-size": 8
       },
       "h2": {
        "color": "19cc588f-0593-49c9-9f4b-e4d7cc113b1c",
        "font-family": "Merriweather",
        "font-size": 6
       },
       "h3": {
        "color": "50f92c45-a630-455b-aec3-788680ec7410",
        "font-family": "Lato",
        "font-size": 5.5
       },
       "h4": {
        "color": "c5cc3653-2ee1-402a-aba2-7caae1da4f6c",
        "font-family": "Lato",
        "font-size": 5
       },
       "h5": {
        "font-family": "Lato"
       },
       "h6": {
        "font-family": "Lato"
       },
       "h7": {
        "font-family": "Lato"
       },
       "li": {
        "color": "50f92c45-a630-455b-aec3-788680ec7410",
        "font-size": 3.25
       },
       "pre": {
        "font-family": "Anonymous Pro",
        "font-size": 4
       }
      },
      "text-base": {
       "color": "19cc588f-0593-49c9-9f4b-e4d7cc113b1c",
       "font-family": "Lato",
       "font-size": 4
      }
     }
    }
   }
  }
 },
 "nbformat": 4,
 "nbformat_minor": 1
}
